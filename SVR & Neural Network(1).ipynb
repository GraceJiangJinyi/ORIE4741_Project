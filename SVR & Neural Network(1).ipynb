{
 "cells": [
  {
   "cell_type": "markdown",
   "metadata": {},
   "source": [
    "Training and Testing Data"
   ]
  },
  {
   "cell_type": "code",
   "execution_count": 1,
   "metadata": {},
   "outputs": [],
   "source": [
    "# import packages\n",
    "import pandas as pd\n",
    "import numpy as np\n",
    "from sklearn import svm\n",
    "from sklearn.svm import SVR\n",
    "from sklearn.model_selection import GridSearchCV\n",
    "from sklearn.model_selection import cross_val_score\n",
    "import matplotlib.pyplot as plt\n",
    "from sklearn.neural_network import MLPClassifier\n",
    "from sklearn.metrics import mean_squared_error\n",
    "from sklearn.metrics import mean_absolute_error\n",
    "from sklearn.neural_network import MLPRegressor "
   ]
  },
  {
   "cell_type": "code",
   "execution_count": 2,
   "metadata": {},
   "outputs": [],
   "source": [
    "# Training Data and testing data\n",
    "traindata = pd.read_csv(\"train_data.csv\")\n",
    "testdata = pd.read_csv(\"test_data.csv\")"
   ]
  },
  {
   "cell_type": "code",
   "execution_count": 3,
   "metadata": {},
   "outputs": [],
   "source": [
    "# China\n",
    "rx_train_c = traindata.T[7:].T\n",
    "rx_test_c = testdata.T[7:].T\n",
    "ry_train_c_all = traindata['CSI300']\n",
    "ry_test_c_all = testdata['CSI300']\n",
    "ry_train_c_r = traindata['cproducts_ch']\n",
    "ry_test_c_r = testdata['cproducts_ch']\n",
    "ry_train_c_p = traindata['healthcare_ch']\n",
    "ry_test_c_p = testdata['healthcare_ch']"
   ]
  },
  {
   "cell_type": "code",
   "execution_count": 4,
   "metadata": {},
   "outputs": [],
   "source": [
    "# USA\n",
    "rx_train_u = traindata[['CSI300', 'cproducts_ch', 'healthcare_ch', 'lNew_cases_CH', 'lNew_deaths_CH','lNew_cases_US', 'lNew_deaths_US', 'lCOMEX_Gold', 'lUS_Tbill_10yr','lSP500', 'lDJI_Retail','lDJI_Pharma']]\n",
    "rx_test_u = testdata[['CSI300', 'cproducts_ch', 'healthcare_ch', 'lNew_cases_CH', 'lNew_deaths_CH','lNew_cases_US', 'lNew_deaths_US', 'lCOMEX_Gold', 'lUS_Tbill_10yr','lSP500', 'lDJI_Retail','lDJI_Pharma']]\n",
    "ry_train_u_all = traindata['SP500']\n",
    "ry_test_u_all = testdata['SP500']\n",
    "ry_train_u_r = traindata['DJI_Retail']\n",
    "ry_test_u_r = testdata['DJI_Retail']\n",
    "ry_train_u_p = traindata['DJI_Pharma']\n",
    "ry_test_u_p = testdata['DJI_Pharma']"
   ]
  },
  {
   "cell_type": "code",
   "execution_count": 5,
   "metadata": {},
   "outputs": [],
   "source": [
    "# Standardize the data\n",
    "def standardize(x):\n",
    "    return (x - x.mean())/x.std()\n",
    "\n",
    "def standardize_test(x,y):\n",
    "    return (x - y.mean())/y.std()"
   ]
  },
  {
   "cell_type": "code",
   "execution_count": 6,
   "metadata": {},
   "outputs": [],
   "source": [
    "# Standardize and add the offset\n",
    "# China\n",
    "x_train_c = standardize(rx_train_c)\n",
    "x_train_c = pd.concat([x_train_c,pd.DataFrame(list(1 for i in range(184)))],axis = 1)\n",
    "x_test_c = standardize_test(rx_test_c, rx_train_c)\n",
    "x_test_c = pd.concat([x_test_c,pd.DataFrame(list(1 for i in range(23)))],axis = 1)\n",
    "y_train_c_all = standardize(ry_train_c_all)\n",
    "y_test_c_all = standardize_test(ry_test_c_all, ry_train_c_all)\n",
    "y_train_c_r = standardize(ry_train_c_r)\n",
    "y_test_c_r = standardize_test(ry_test_c_r, ry_train_c_r)\n",
    "y_train_c_p = standardize(ry_train_c_p)\n",
    "y_test_c_p = standardize_test(ry_test_c_p, ry_train_c_p)\n",
    "# USA\n",
    "x_train_u = standardize(rx_train_u)\n",
    "x_train_u = pd.concat([x_train_u,pd.DataFrame(list(1 for i in range(184)))],axis = 1)\n",
    "x_test_u = standardize_test(rx_test_u, rx_train_u)\n",
    "x_test_u = pd.concat([x_test_u,pd.DataFrame(list(1 for i in range(23)))],axis = 1)\n",
    "y_train_u_all = standardize(ry_train_u_all)\n",
    "y_test_u_all = standardize_test(ry_test_u_all, ry_train_u_all)\n",
    "y_train_u_r = standardize(ry_train_u_r)\n",
    "y_test_u_r = standardize_test(ry_test_u_r, ry_train_u_r)\n",
    "y_train_u_p = standardize(ry_train_u_p)\n",
    "y_test_u_p = standardize_test(ry_test_u_p, ry_train_u_p)"
   ]
  },
  {
   "cell_type": "markdown",
   "metadata": {},
   "source": [
    "SVR"
   ]
  },
  {
   "cell_type": "code",
   "execution_count": 8,
   "metadata": {},
   "outputs": [],
   "source": [
    "# R^2 \n",
    "def r_squre(y_true, y_pred):\n",
    "    numerator = ((y_true - y_pred) ** 2).sum()\n",
    "    denominator = ((y_true - np.average(y_true)) ** 2).sum()\n",
    "    r2 = 1 - (numerator / denominator)\n",
    "    return r2"
   ]
  },
  {
   "cell_type": "code",
   "execution_count": 158,
   "metadata": {},
   "outputs": [
    {
     "name": "stdout",
     "output_type": "stream",
     "text": [
      "[ 0.04962207 -0.01506673  0.03990637 -0.00449996  0.03174722 -0.01813648\n",
      "  0.96537191 -0.15089551 -0.06766588 -0.03312974  0.25846504 -0.03578108\n",
      " -0.00560657]\n",
      "r2 is  0.5959655087220385 . MSE is  0.006684013565058477 . MAE is  0.06540020382514537 .\n",
      "[ 0.04171191 -0.01722619  0.02495356  0.005232    0.00739733 -0.03006001\n",
      "  0.09478742  0.77676194 -0.06614813 -0.0584333   0.22664566 -0.02947958\n",
      "  0.00406019]\n",
      "r2 is  0.36807506265185375 . MSE is  0.00639561465914778 . MAE is  0.06149689430897372 .\n",
      "[ 0.05035788 -0.0223319   0.0018626   0.04203813 -0.02594191 -0.06595477\n",
      "  0.13683437 -0.22100823  0.84693511 -0.04111552  0.26857466 -0.03327977\n",
      "  0.00115532]\n",
      "r2 is  0.33773476300123084 . MSE is  0.014221773269616855 . MAE is  0.09471195713121468 .\n"
     ]
    }
   ],
   "source": [
    "# China\n",
    "r2_list = []\n",
    "mse_list = []\n",
    "mae_list = []\n",
    "china_y_list = [[y_train_c_all, y_train_c_r, y_train_c_p],[y_test_c_all, y_test_c_r, y_test_c_p]]\n",
    "for i in range(3):\n",
    "    y_test = china_y_list[1][i]\n",
    "    clst = svm.LinearSVR(max_iter=1000000)\n",
    "    clst.fit(x_train_c, china_y_list[0][i])\n",
    "    print(clst.coef_)\n",
    "    y_predict = clst.predict(x_test_c)\n",
    "    r2 = r_squre(y_test, y_predict)\n",
    "    mse = mean_squared_error(y_test, y_predict, squared=True)\n",
    "    mae = mean_absolute_error(y_test, y_predict)\n",
    "    r2_list.append(r2)\n",
    "    mse_list.append(mse)\n",
    "    mae_list.append(mae)\n",
    "    print(\"r2 is \",r2,\". MSE is \",mse,\". MAE is \",mae,\".\")"
   ]
  },
  {
   "cell_type": "code",
   "execution_count": 159,
   "metadata": {},
   "outputs": [
    {
     "name": "stdout",
     "output_type": "stream",
     "text": [
      "[-0.06523609  0.19119286  0.01168626  0.06289658 -0.07176361 -0.22036558\n",
      "  0.14183619 -0.11390852 -0.03323481  0.91852291  0.08265854 -0.05411536\n",
      "  0.01978728]\n",
      "r2 is  0.7736836504089869 . MSE is  0.005434927838638019 . MAE is  0.05684016032730183 .\n",
      "[-0.05516733  0.10991148  0.10336603  0.01892959 -0.02431133 -0.09696967\n",
      "  0.06695188 -0.05179657  0.00187017 -0.00545513  0.90512817 -0.01777279\n",
      "  0.0083464 ]\n",
      "r2 is  0.03209422992383637 . MSE is  0.006192040821434233 . MAE is  0.05956904437297661 .\n",
      "[-0.08936221  0.35530271  0.0717292   0.03812336 -0.04657099 -0.43966907\n",
      "  0.22173068 -0.2816454  -0.2744233   0.16216345 -0.09656101  0.84003775\n",
      "  0.02526652]\n",
      "r2 is  0.6942046647432243 . MSE is  0.02818094896390564 . MAE is  0.1389069365755965 .\n"
     ]
    }
   ],
   "source": [
    "# USA\n",
    "usa_y_list = [[y_train_u_all, y_train_u_r, y_train_u_p],[y_test_u_all, y_test_u_r, y_test_u_p]]\n",
    "for i in range(3):\n",
    "    y_test = usa_y_list[1][i]\n",
    "    clst = svm.LinearSVR(max_iter=1000000)\n",
    "    clst.fit(x_train_u, usa_y_list[0][i])\n",
    "    print(clst.coef_)\n",
    "    y_predict = clst.predict(x_test_u)\n",
    "    r2 = r_squre(y_test, y_predict)\n",
    "    mse = mean_squared_error(y_test, y_predict, squared=True)\n",
    "    mae = mean_absolute_error(y_test, y_predict)\n",
    "    r2_list.append(r2)\n",
    "    mse_list.append(mse)\n",
    "    mae_list.append(mae)\n",
    "    print(\"r2 is \",r2,\". MSE is \",mse,\". MAE is \",mae,\".\")"
   ]
  },
  {
   "cell_type": "code",
   "execution_count": 160,
   "metadata": {},
   "outputs": [],
   "source": [
    "# MSE, MAE \n",
    "pdmse = pd.DataFrame(mse_list,columns = ['SVR'],index = ['China_CSI300','China_Consumer products','China_Healthcare','USA_SP500','USA_Consumer products','USA_Healthcare'])\n",
    "pdmae = pd.DataFrame(mae_list,columns = ['SVR'],index = ['China_CSI300','China_Consumer products','China_Healthcare','USA_SP500','USA_Consumer products','USA_Healthcare'])"
   ]
  },
  {
   "cell_type": "markdown",
   "metadata": {},
   "source": [
    "Neural Network"
   ]
  },
  {
   "cell_type": "code",
   "execution_count": 125,
   "metadata": {},
   "outputs": [],
   "source": [
    "# Build model by finding the best number\n",
    "def find_nn(x_train,y_train):\n",
    "    # number to choose\n",
    "    fit_deep = 0\n",
    "    nn_range = [250,300,350,400,450,500,550,600,650,700,750]\n",
    "    # score for each number\n",
    "    nn_scores = []\n",
    "    # Find the best number\n",
    "    for i in nn_range:\n",
    "        # here we use 4 layers\n",
    "        mlp =  MLPRegressor(alpha = 1e-5, hidden_layer_sizes = (i,i), random_state = 1)\n",
    "        score = cross_val_score(mlp, x_train, y_train, cv = 3, scoring = 'explained_variance')\n",
    "        # find by looking for the highest score\n",
    "        if score.mean() > max(max(nn_scores,[0])):\n",
    "            fit_deep = i\n",
    "        nn_scores.append(score.mean())\n",
    "    print(fit_deep)\n",
    "    plt.plot(nn_range, nn_scores)\n",
    "    plt.xlabel('depth')\n",
    "    plt.ylabel('cross_score')\n",
    "    figure = plt.figure()\n",
    "    plt.show()"
   ]
  },
  {
   "cell_type": "code",
   "execution_count": 131,
   "metadata": {},
   "outputs": [
    {
     "name": "stdout",
     "output_type": "stream",
     "text": [
      "300\n"
     ]
    },
    {
     "data": {
      "image/png": "[encoded data removed]",
      "text/plain": [
       "<Figure size 432x288 with 1 Axes>"
      ]
     },
     "metadata": {
      "needs_background": "light"
     },
     "output_type": "display_data"
    },
    {
     "data": {
      "text/plain": [
       "<Figure size 432x288 with 0 Axes>"
      ]
     },
     "metadata": {},
     "output_type": "display_data"
    }
   ],
   "source": [
    "# USA SP500\n",
    "find_nn(x_train_u,y_train_u_all)"
   ]
  },
  {
   "cell_type": "code",
   "execution_count": 130,
   "metadata": {},
   "outputs": [
    {
     "name": "stdout",
     "output_type": "stream",
     "text": [
      "300\n"
     ]
    },
    {
     "data": {
      "image/png": "[encoded data removed]",
      "text/plain": [
       "<Figure size 432x288 with 1 Axes>"
      ]
     },
     "metadata": {
      "needs_background": "light"
     },
     "output_type": "display_data"
    },
    {
     "data": {
      "text/plain": [
       "<Figure size 432x288 with 0 Axes>"
      ]
     },
     "metadata": {},
     "output_type": "display_data"
    }
   ],
   "source": [
    "# USA retail\n",
    "find_nn(x_train_u,y_train_u_r)"
   ]
  },
  {
   "cell_type": "code",
   "execution_count": 129,
   "metadata": {},
   "outputs": [
    {
     "name": "stdout",
     "output_type": "stream",
     "text": [
      "450\n"
     ]
    },
    {
     "data": {
      "image/png": "[encoded data removed]",
      "text/plain": [
       "<Figure size 432x288 with 1 Axes>"
      ]
     },
     "metadata": {
      "needs_background": "light"
     },
     "output_type": "display_data"
    },
    {
     "data": {
      "text/plain": [
       "<Figure size 432x288 with 0 Axes>"
      ]
     },
     "metadata": {},
     "output_type": "display_data"
    }
   ],
   "source": [
    "# USA phar\n",
    "find_nn(x_train_u,y_train_u_p)"
   ]
  },
  {
   "cell_type": "code",
   "execution_count": 128,
   "metadata": {},
   "outputs": [
    {
     "name": "stdout",
     "output_type": "stream",
     "text": [
      "450\n"
     ]
    },
    {
     "data": {
      "image/png": "[encoded data removed]",
      "text/plain": [
       "<Figure size 432x288 with 1 Axes>"
      ]
     },
     "metadata": {
      "needs_background": "light"
     },
     "output_type": "display_data"
    },
    {
     "data": {
      "text/plain": [
       "<Figure size 432x288 with 0 Axes>"
      ]
     },
     "metadata": {},
     "output_type": "display_data"
    }
   ],
   "source": [
    "# China CSI300\n",
    "find_nn(x_train_c,y_train_c_all)"
   ]
  },
  {
   "cell_type": "code",
   "execution_count": 126,
   "metadata": {},
   "outputs": [
    {
     "name": "stdout",
     "output_type": "stream",
     "text": [
      "600\n"
     ]
    },
    {
     "data": {
      "image/png": "[encoded data removed]",
      "text/plain": [
       "<Figure size 432x288 with 1 Axes>"
      ]
     },
     "metadata": {
      "needs_background": "light"
     },
     "output_type": "display_data"
    },
    {
     "data": {
      "text/plain": [
       "<Figure size 432x288 with 0 Axes>"
      ]
     },
     "metadata": {},
     "output_type": "display_data"
    }
   ],
   "source": [
    "# China retail\n",
    "find_nn(x_train_c,y_train_c_r)"
   ]
  },
  {
   "cell_type": "code",
   "execution_count": 127,
   "metadata": {},
   "outputs": [
    {
     "name": "stdout",
     "output_type": "stream",
     "text": [
      "400\n"
     ]
    },
    {
     "data": {
      "image/png": "[encoded data removed]",
      "text/plain": [
       "<Figure size 432x288 with 1 Axes>"
      ]
     },
     "metadata": {
      "needs_background": "light"
     },
     "output_type": "display_data"
    },
    {
     "data": {
      "text/plain": [
       "<Figure size 432x288 with 0 Axes>"
      ]
     },
     "metadata": {},
     "output_type": "display_data"
    }
   ],
   "source": [
    "# China phar\n",
    "find_nn(x_train_c,y_train_c_p)"
   ]
  },
  {
   "cell_type": "code",
   "execution_count": 148,
   "metadata": {},
   "outputs": [
    {
     "name": "stdout",
     "output_type": "stream",
     "text": [
      "MSE is  0.05414531986856103 . MAE is  0.20469636834744798 .\n",
      "MSE is  0.006750405176763855 . MAE is  0.0719961437984423 .\n",
      "MSE is  0.17001448698606988 . MAE is  0.3879429115989939 .\n"
     ]
    }
   ],
   "source": [
    "# China\n",
    "mse_list = []\n",
    "mae_list = []\n",
    "china_y_list = [[y_train_c_all, y_train_c_r, y_train_c_p],[y_test_c_all, y_test_c_r, y_test_c_p]]\n",
    "i_list = [450,600,400]\n",
    "for i in range(3):\n",
    "    y_test = china_y_list[1][i]\n",
    "    j = i_list[i]\n",
    "    mlp =  MLPRegressor(alpha = 1e-5, hidden_layer_sizes = (j,j), random_state = 1)\n",
    "    mlp.fit(x_train_c, china_y_list[0][i])\n",
    "    y_predict = mlp.predict(x_test_c)\n",
    "    mse = mean_squared_error(y_test, y_predict, squared=True)\n",
    "    mae = mean_absolute_error(y_test, y_predict)\n",
    "    mse_list.append(mse)\n",
    "    mae_list.append(mae)\n",
    "    print(\"MSE is \",mse,\". MAE is \",mae,\".\")"
   ]
  },
  {
   "cell_type": "code",
   "execution_count": 149,
   "metadata": {},
   "outputs": [
    {
     "name": "stdout",
     "output_type": "stream",
     "text": [
      "MSE is  0.07839524748896151 . MAE is  0.2566967858533895 .\n",
      "MSE is  0.016523881408886852 . MAE is  0.11435188913964797 .\n",
      "MSE is  0.01274618937521328 . MAE is  0.09103274425846919 .\n"
     ]
    }
   ],
   "source": [
    "# USA\n",
    "i_list = [300,300,450]\n",
    "for i in range(3):\n",
    "    y_test = usa_y_list[1][i]\n",
    "    j = i_list[i]\n",
    "    mlp =  MLPRegressor(alpha = 1e-5, hidden_layer_sizes = (j,j), random_state = 1)\n",
    "    mlp.fit(x_train_u, usa_y_list[0][i])\n",
    "    y_predict = mlp.predict(x_test_u)\n",
    "    mse = mean_squared_error(y_test, y_predict, squared=True)\n",
    "    mae = mean_absolute_error(y_test, y_predict)\n",
    "    mse_list.append(mse)\n",
    "    mae_list.append(mae)\n",
    "    print(\"MSE is \",mse,\". MAE is \",mae,\".\")"
   ]
  },
  {
   "cell_type": "code",
   "execution_count": 162,
   "metadata": {},
   "outputs": [],
   "source": [
    "# MSE, MAE \n",
    "nmse = pd.DataFrame(mse_list,columns = ['NN'],index = ['China_CSI300','China_Consumer products','China_Healthcare','USA_SP500','USA_Consumer products','USA_Healthcare'])\n",
    "nmae = pd.DataFrame(mae_list,columns = ['NN'],index = ['China_CSI300','China_Consumer products','China_Healthcare','USA_SP500','USA_Consumer products','USA_Healthcare'])\n",
    "pdmse = pd.concat([pdmse,nmse],axis = 1)\n",
    "pdmae = pd.concat([pdmae,nmae],axis = 1)"
   ]
  },
  {
   "cell_type": "markdown",
   "metadata": {},
   "source": [
    "MSE & MAE"
   ]
  },
  {
   "cell_type": "code",
   "execution_count": 163,
   "metadata": {},
   "outputs": [],
   "source": [
    "# We collect mse and mae data from Julia code\n",
    "# Quadratic+l1\n",
    "mse1_list = [0.0056675262,0.004179232,0.00463191488,0.00834485146,0.00620750251,0.0076500688]\n",
    "mae1_list = [0.0654235421,0.058982864,0.06048266580,0.06547733314,0.07015449880,0.0699234155]\n",
    "nmse = pd.DataFrame(mse1_list,columns = ['Quadratic+l1'],index = ['China_CSI300','China_Consumer products','China_Healthcare','USA_SP500','USA_Consumer products','USA_Healthcare'])\n",
    "nmae = pd.DataFrame(mae1_list,columns = ['Quadratic+l1'],index = ['China_CSI300','China_Consumer products','China_Healthcare','USA_SP500','USA_Consumer products','USA_Healthcare'])\n",
    "pdmse = pd.concat([pdmse,nmse],axis = 1)\n",
    "pdmae = pd.concat([pdmae,nmae],axis = 1)"
   ]
  },
  {
   "cell_type": "code",
   "execution_count": 165,
   "metadata": {},
   "outputs": [],
   "source": [
    "# Quadratic+l2\n",
    "mse2_list = [0.00684214889,0.0093589136,0.0075627205,0.0071973823,0.00636182509,0.00631015334]\n",
    "mae2_list = [0.05320435854,0.0655482328,0.0567373750,0.0625305587,0.06160085747,0.06473200953]\n",
    "nmse = pd.DataFrame(mse2_list,columns = ['Quadratic+l2'],index = ['China_CSI300','China_Consumer products','China_Healthcare','USA_SP500','USA_Consumer products','USA_Healthcare'])\n",
    "nmae = pd.DataFrame(mae2_list,columns = ['Quadratic+l2'],index = ['China_CSI300','China_Consumer products','China_Healthcare','USA_SP500','USA_Consumer products','USA_Healthcare'])\n",
    "pdmse = pd.concat([pdmse,nmse],axis = 1)\n",
    "pdmae = pd.concat([pdmae,nmae],axis = 1)"
   ]
  },
  {
   "cell_type": "code",
   "execution_count": 171,
   "metadata": {},
   "outputs": [],
   "source": [
    "# quantile 0.25\n",
    "mse3_list = [0.007089793,0.00873588,0.007061701,0.0048604125,0.0043377304,0.0069902217]\n",
    "mae3_list = [0.054737998,0.06354510,0.053586971,0.0538320940,0.0538967915,0.0637802475]\n",
    "nmse = pd.DataFrame(mse3_list,columns = ['Quantile 0.25'],index = ['China_CSI300','China_Consumer products','China_Healthcare','USA_SP500','USA_Consumer products','USA_Healthcare'])\n",
    "nmae = pd.DataFrame(mae3_list,columns = ['Quantile 0.25'],index = ['China_CSI300','China_Consumer products','China_Healthcare','USA_SP500','USA_Consumer products','USA_Healthcare'])\n",
    "pdmse = pd.concat([pdmse,nmse],axis = 1)\n",
    "pdmae = pd.concat([pdmae,nmae],axis = 1)"
   ]
  },
  {
   "cell_type": "code",
   "execution_count": 172,
   "metadata": {},
   "outputs": [],
   "source": [
    "# quantile 0.5\n",
    "mse4_list = [0.007200110,0.00547563,0.003925071,0.0038809369,0.0065462707,0.0036205859]\n",
    "mae4_list = [0.056705914,0.05079310,0.040473573,0.0436233108,0.0567616190,0.0492947858]\n",
    "nmse = pd.DataFrame(mse4_list,columns = ['Quantile 0.5'],index = ['China_CSI300','China_Consumer products','China_Healthcare','USA_SP500','USA_Consumer products','USA_Healthcare'])\n",
    "nmae = pd.DataFrame(mae4_list,columns = ['Quantile 0.5'],index = ['China_CSI300','China_Consumer products','China_Healthcare','USA_SP500','USA_Consumer products','USA_Healthcare'])\n",
    "pdmse = pd.concat([pdmse,nmse],axis = 1)\n",
    "pdmae = pd.concat([pdmae,nmae],axis = 1)"
   ]
  },
  {
   "cell_type": "code",
   "execution_count": 173,
   "metadata": {},
   "outputs": [],
   "source": [
    "# quantile 0.75\n",
    "mse5_list = [0.007493629,0.01377436,0.007725487,0.0056740352,0.0096748378,0.0043986957]\n",
    "mae5_list = [0.055664641,0.07983077, 0.05816546,0.0554683142,0.0702245584,0.0520605143]\n",
    "nmse = pd.DataFrame(mse5_list,columns = ['Quantile 0.75'],index = ['China_CSI300','China_Consumer products','China_Healthcare','USA_SP500','USA_Consumer products','USA_Healthcare'])\n",
    "nmae = pd.DataFrame(mae5_list,columns = ['Quantile 0.75'],index = ['China_CSI300','China_Consumer products','China_Healthcare','USA_SP500','USA_Consumer products','USA_Healthcare'])\n",
    "pdmse = pd.concat([pdmse,nmse],axis = 1)\n",
    "pdmae = pd.concat([pdmae,nmae],axis = 1)"
   ]
  },
  {
   "cell_type": "code",
   "execution_count": 174,
   "metadata": {},
   "outputs": [
    {
     "data": {
      "text/html": [
       "<div>\n",
       "<style scoped>\n",
       "    .dataframe tbody tr th:only-of-type {\n",
       "        vertical-align: middle;\n",
       "    }\n",
       "\n",
       "    .dataframe tbody tr th {\n",
       "        vertical-align: top;\n",
       "    }\n",
       "\n",
       "    .dataframe thead th {\n",
       "        text-align: right;\n",
       "    }\n",
       "</style>\n",
       "<table border=\"1\" class=\"dataframe\">\n",
       "  <thead>\n",
       "    <tr style=\"text-align: right;\">\n",
       "      <th></th>\n",
       "      <th>SVR</th>\n",
       "      <th>NN</th>\n",
       "      <th>Quadratic+l1</th>\n",
       "      <th>Quadratic+l2</th>\n",
       "      <th>Quantile 0.25</th>\n",
       "      <th>Quantile 0.5</th>\n",
       "      <th>Quantile 0.75</th>\n",
       "    </tr>\n",
       "  </thead>\n",
       "  <tbody>\n",
       "    <tr>\n",
       "      <th>China_CSI300</th>\n",
       "      <td>0.065400</td>\n",
       "      <td>0.065400</td>\n",
       "      <td>0.065424</td>\n",
       "      <td>0.053204</td>\n",
       "      <td>0.054738</td>\n",
       "      <td>0.056706</td>\n",
       "      <td>0.055665</td>\n",
       "    </tr>\n",
       "    <tr>\n",
       "      <th>China_Consumer products</th>\n",
       "      <td>0.061497</td>\n",
       "      <td>0.061497</td>\n",
       "      <td>0.058983</td>\n",
       "      <td>0.065548</td>\n",
       "      <td>0.063545</td>\n",
       "      <td>0.050793</td>\n",
       "      <td>0.079831</td>\n",
       "    </tr>\n",
       "    <tr>\n",
       "      <th>China_Healthcare</th>\n",
       "      <td>0.094712</td>\n",
       "      <td>0.094712</td>\n",
       "      <td>0.060483</td>\n",
       "      <td>0.056737</td>\n",
       "      <td>0.053587</td>\n",
       "      <td>0.040474</td>\n",
       "      <td>0.058165</td>\n",
       "    </tr>\n",
       "    <tr>\n",
       "      <th>USA_SP500</th>\n",
       "      <td>0.056840</td>\n",
       "      <td>0.056840</td>\n",
       "      <td>0.065477</td>\n",
       "      <td>0.062531</td>\n",
       "      <td>0.053832</td>\n",
       "      <td>0.043623</td>\n",
       "      <td>0.055468</td>\n",
       "    </tr>\n",
       "    <tr>\n",
       "      <th>USA_Consumer products</th>\n",
       "      <td>0.059569</td>\n",
       "      <td>0.059569</td>\n",
       "      <td>0.070154</td>\n",
       "      <td>0.061601</td>\n",
       "      <td>0.053897</td>\n",
       "      <td>0.056762</td>\n",
       "      <td>0.070225</td>\n",
       "    </tr>\n",
       "    <tr>\n",
       "      <th>USA_Healthcare</th>\n",
       "      <td>0.138907</td>\n",
       "      <td>0.138907</td>\n",
       "      <td>0.069923</td>\n",
       "      <td>0.064732</td>\n",
       "      <td>0.063780</td>\n",
       "      <td>0.049295</td>\n",
       "      <td>0.052061</td>\n",
       "    </tr>\n",
       "  </tbody>\n",
       "</table>\n",
       "</div>"
      ],
      "text/plain": [
       "                              SVR        NN  Quadratic+l1  Quadratic+l2  \\\n",
       "China_CSI300             0.065400  0.065400      0.065424      0.053204   \n",
       "China_Consumer products  0.061497  0.061497      0.058983      0.065548   \n",
       "China_Healthcare         0.094712  0.094712      0.060483      0.056737   \n",
       "USA_SP500                0.056840  0.056840      0.065477      0.062531   \n",
       "USA_Consumer products    0.059569  0.059569      0.070154      0.061601   \n",
       "USA_Healthcare           0.138907  0.138907      0.069923      0.064732   \n",
       "\n",
       "                         Quantile 0.25  Quantile 0.5  Quantile 0.75  \n",
       "China_CSI300                  0.054738      0.056706       0.055665  \n",
       "China_Consumer products       0.063545      0.050793       0.079831  \n",
       "China_Healthcare              0.053587      0.040474       0.058165  \n",
       "USA_SP500                     0.053832      0.043623       0.055468  \n",
       "USA_Consumer products         0.053897      0.056762       0.070225  \n",
       "USA_Healthcare                0.063780      0.049295       0.052061  "
      ]
     },
     "execution_count": 174,
     "metadata": {},
     "output_type": "execute_result"
    }
   ],
   "source": [
    "pdmae"
   ]
  },
  {
   "cell_type": "code",
   "execution_count": 175,
   "metadata": {},
   "outputs": [
    {
     "data": {
      "text/html": [
       "<div>\n",
       "<style scoped>\n",
       "    .dataframe tbody tr th:only-of-type {\n",
       "        vertical-align: middle;\n",
       "    }\n",
       "\n",
       "    .dataframe tbody tr th {\n",
       "        vertical-align: top;\n",
       "    }\n",
       "\n",
       "    .dataframe thead th {\n",
       "        text-align: right;\n",
       "    }\n",
       "</style>\n",
       "<table border=\"1\" class=\"dataframe\">\n",
       "  <thead>\n",
       "    <tr style=\"text-align: right;\">\n",
       "      <th></th>\n",
       "      <th>SVR</th>\n",
       "      <th>NN</th>\n",
       "      <th>Quadratic+l1</th>\n",
       "      <th>Quadratic+l2</th>\n",
       "      <th>Quantile 0.25</th>\n",
       "      <th>Quantile 0.5</th>\n",
       "      <th>Quantile 0.75</th>\n",
       "    </tr>\n",
       "  </thead>\n",
       "  <tbody>\n",
       "    <tr>\n",
       "      <th>China_CSI300</th>\n",
       "      <td>0.006684</td>\n",
       "      <td>0.006684</td>\n",
       "      <td>0.005668</td>\n",
       "      <td>0.006842</td>\n",
       "      <td>0.007090</td>\n",
       "      <td>0.007200</td>\n",
       "      <td>0.007494</td>\n",
       "    </tr>\n",
       "    <tr>\n",
       "      <th>China_Consumer products</th>\n",
       "      <td>0.006396</td>\n",
       "      <td>0.006396</td>\n",
       "      <td>0.004179</td>\n",
       "      <td>0.009359</td>\n",
       "      <td>0.008736</td>\n",
       "      <td>0.005476</td>\n",
       "      <td>0.013774</td>\n",
       "    </tr>\n",
       "    <tr>\n",
       "      <th>China_Healthcare</th>\n",
       "      <td>0.014222</td>\n",
       "      <td>0.014222</td>\n",
       "      <td>0.004632</td>\n",
       "      <td>0.007563</td>\n",
       "      <td>0.007062</td>\n",
       "      <td>0.003925</td>\n",
       "      <td>0.007725</td>\n",
       "    </tr>\n",
       "    <tr>\n",
       "      <th>USA_SP500</th>\n",
       "      <td>0.005435</td>\n",
       "      <td>0.005435</td>\n",
       "      <td>0.008345</td>\n",
       "      <td>0.007197</td>\n",
       "      <td>0.004860</td>\n",
       "      <td>0.003881</td>\n",
       "      <td>0.005674</td>\n",
       "    </tr>\n",
       "    <tr>\n",
       "      <th>USA_Consumer products</th>\n",
       "      <td>0.006192</td>\n",
       "      <td>0.006192</td>\n",
       "      <td>0.006208</td>\n",
       "      <td>0.006362</td>\n",
       "      <td>0.004338</td>\n",
       "      <td>0.006546</td>\n",
       "      <td>0.009675</td>\n",
       "    </tr>\n",
       "    <tr>\n",
       "      <th>USA_Healthcare</th>\n",
       "      <td>0.028181</td>\n",
       "      <td>0.028181</td>\n",
       "      <td>0.007650</td>\n",
       "      <td>0.006310</td>\n",
       "      <td>0.006990</td>\n",
       "      <td>0.003621</td>\n",
       "      <td>0.004399</td>\n",
       "    </tr>\n",
       "  </tbody>\n",
       "</table>\n",
       "</div>"
      ],
      "text/plain": [
       "                              SVR        NN  Quadratic+l1  Quadratic+l2  \\\n",
       "China_CSI300             0.006684  0.006684      0.005668      0.006842   \n",
       "China_Consumer products  0.006396  0.006396      0.004179      0.009359   \n",
       "China_Healthcare         0.014222  0.014222      0.004632      0.007563   \n",
       "USA_SP500                0.005435  0.005435      0.008345      0.007197   \n",
       "USA_Consumer products    0.006192  0.006192      0.006208      0.006362   \n",
       "USA_Healthcare           0.028181  0.028181      0.007650      0.006310   \n",
       "\n",
       "                         Quantile 0.25  Quantile 0.5  Quantile 0.75  \n",
       "China_CSI300                  0.007090      0.007200       0.007494  \n",
       "China_Consumer products       0.008736      0.005476       0.013774  \n",
       "China_Healthcare              0.007062      0.003925       0.007725  \n",
       "USA_SP500                     0.004860      0.003881       0.005674  \n",
       "USA_Consumer products         0.004338      0.006546       0.009675  \n",
       "USA_Healthcare                0.006990      0.003621       0.004399  "
      ]
     },
     "execution_count": 175,
     "metadata": {},
     "output_type": "execute_result"
    }
   ],
   "source": [
    "pdmse"
   ]
  },
  {
   "cell_type": "code",
   "execution_count": null,
   "metadata": {},
   "outputs": [],
   "source": []
  }
 ],
 "metadata": {
  "kernelspec": {
   "display_name": "Python 3",
   "language": "python",
   "name": "python3"
  },
  "language_info": {
   "codemirror_mode": {
    "name": "ipython",
    "version": 3
   },
   "file_extension": ".py",
   "mimetype": "text/x-python",
   "name": "python",
   "nbconvert_exporter": "python",
   "pygments_lexer": "ipython3",
   "version": "3.8.3"
  }
 },
 "nbformat": 4,
 "nbformat_minor": 4
}
