{
 "cells": [
  {
   "cell_type": "markdown",
   "metadata": {},
   "source": [
    "Training and Testing Data"
   ]
  },
  {
   "cell_type": "code",
   "execution_count": 1,
   "metadata": {},
   "outputs": [],
   "source": [
    "# import packages\n",
    "import pandas as pd\n",
    "import numpy as np\n",
    "from sklearn import svm\n",
    "from sklearn.svm import SVR\n",
    "from sklearn.model_selection import GridSearchCV\n",
    "from sklearn.model_selection import cross_val_score\n",
    "import matplotlib.pyplot as plt\n",
    "from sklearn.neural_network import MLPClassifier\n",
    "from sklearn.metrics import mean_squared_error\n",
    "from sklearn.metrics import mean_absolute_error\n",
    "from sklearn.neural_network import MLPRegressor "
   ]
  },
  {
   "cell_type": "code",
   "execution_count": 2,
   "metadata": {},
   "outputs": [],
   "source": [
    "# Training Data and testing data\n",
    "traindata = pd.read_csv(\"train_data.csv\")\n",
    "testdata = pd.read_csv(\"test_data.csv\")"
   ]
  },
  {
   "cell_type": "code",
   "execution_count": 3,
   "metadata": {},
   "outputs": [],
   "source": [
    "# China\n",
    "rx_train_c = traindata.T[7:].T\n",
    "rx_test_c = testdata.T[7:].T\n",
    "ry_train_c_all = traindata['CSI300']\n",
    "ry_test_c_all = testdata['CSI300']\n",
    "ry_train_c_r = traindata['cproducts_ch']\n",
    "ry_test_c_r = testdata['cproducts_ch']\n",
    "ry_train_c_p = traindata['healthcare_ch']\n",
    "ry_test_c_p = testdata['healthcare_ch']"
   ]
  },
  {
   "cell_type": "code",
   "execution_count": 4,
   "metadata": {},
   "outputs": [],
   "source": [
    "# USA\n",
    "rx_train_u = traindata[['CSI300', 'cproducts_ch', 'healthcare_ch', 'lNew_cases_CH', 'lNew_deaths_CH','lNew_cases_US', 'lNew_deaths_US', 'lCOMEX_Gold', 'lUS_Tbill_10yr','lSP500', 'lDJI_Retail','lDJI_Pharma']]\n",
    "rx_test_u = testdata[['CSI300', 'cproducts_ch', 'healthcare_ch', 'lNew_cases_CH', 'lNew_deaths_CH','lNew_cases_US', 'lNew_deaths_US', 'lCOMEX_Gold', 'lUS_Tbill_10yr','lSP500', 'lDJI_Retail','lDJI_Pharma']]\n",
    "ry_train_u_all = traindata['SP500']\n",
    "ry_test_u_all = testdata['SP500']\n",
    "ry_train_u_r = traindata['DJI_Retail']\n",
    "ry_test_u_r = testdata['DJI_Retail']\n",
    "ry_train_u_p = traindata['DJI_Pharma']\n",
    "ry_test_u_p = testdata['DJI_Pharma']"
   ]
  },
  {
   "cell_type": "code",
   "execution_count": 5,
   "metadata": {},
   "outputs": [],
   "source": [
    "# Standardize the data\n",
    "def standardize(x):\n",
    "    return (x - x.mean())/x.std()\n",
    "\n",
    "def standardize_test(x,y):\n",
    "    return (x - y.mean())/y.std()"
   ]
  },
  {
   "cell_type": "code",
   "execution_count": 6,
   "metadata": {},
   "outputs": [],
   "source": [
    "# Standardize and add the offset\n",
    "# China\n",
    "x_train_c = standardize(rx_train_c)\n",
    "x_train_c = pd.concat([x_train_c,pd.DataFrame(list(1 for i in range(184)))],axis = 1)\n",
    "x_test_c = standardize_test(rx_test_c, rx_train_c)\n",
    "x_test_c = pd.concat([x_test_c,pd.DataFrame(list(1 for i in range(23)))],axis = 1)\n",
    "y_train_c_all = standardize(ry_train_c_all)\n",
    "y_test_c_all = standardize_test(ry_test_c_all, ry_train_c_all)\n",
    "y_train_c_r = standardize(ry_train_c_r)\n",
    "y_test_c_r = standardize_test(ry_test_c_r, ry_train_c_r)\n",
    "y_train_c_p = standardize(ry_train_c_p)\n",
    "y_test_c_p = standardize_test(ry_test_c_p, ry_train_c_p)\n",
    "# USA\n",
    "x_train_u = standardize(rx_train_u)\n",
    "x_train_u = pd.concat([x_train_u,pd.DataFrame(list(1 for i in range(184)))],axis = 1)\n",
    "x_test_u = standardize_test(rx_test_u, rx_train_u)\n",
    "x_test_u = pd.concat([x_test_u,pd.DataFrame(list(1 for i in range(23)))],axis = 1)\n",
    "y_train_u_all = standardize(ry_train_u_all)\n",
    "y_test_u_all = standardize_test(ry_test_u_all, ry_train_u_all)\n",
    "y_train_u_r = standardize(ry_train_u_r)\n",
    "y_test_u_r = standardize_test(ry_test_u_r, ry_train_u_r)\n",
    "y_train_u_p = standardize(ry_train_u_p)\n",
    "y_test_u_p = standardize_test(ry_test_u_p, ry_train_u_p)"
   ]
  },
  {
   "cell_type": "markdown",
   "metadata": {},
   "source": [
    "SVR"
   ]
  },
  {
   "cell_type": "code",
   "execution_count": 7,
   "metadata": {},
   "outputs": [],
   "source": [
    "# R^2 \n",
    "def r_squre(y_true, y_pred):\n",
    "    numerator = ((y_true - y_pred) ** 2).sum()\n",
    "    denominator = ((y_true - np.average(y_true)) ** 2).sum()\n",
    "    r2 = 1 - (numerator / denominator)\n",
    "    return r2"
   ]
  },
  {
   "cell_type": "markdown",
   "metadata": {},
   "source": [
    "When kernel = 'rbf'."
   ]
  },
  {
   "cell_type": "code",
   "execution_count": 108,
   "metadata": {},
   "outputs": [
    {
     "name": "stdout",
     "output_type": "stream",
     "text": [
      "For test data: r2 is  -0.8374336082616127 . MSE is  0.04412548667931809 . MAE is  0.18583300132285785 . For training data: r2 is  0.9855524888076608 . MSE is  0.014368992109772107 . MAE is  0.09181467893318833 .\n",
      "For test data: r2 is  -29.158428313784988 . MSE is  0.19293429691462638 . MAE is  0.402060463200943 . For training data: r2 is  0.9927043264423346 . MSE is  0.007256023157895446 . MAE is  0.07328919286264454 .\n",
      "For test data: r2 is  0.7577860198367928 . MSE is  0.022321530207752082 . MAE is  0.11960511672094958 . For training data: r2 is  0.9697313982023696 . MSE is  0.030104098526991106 . MAE is  0.12714575124167812 .\n"
     ]
    }
   ],
   "source": [
    "# USA\n",
    "usa_y_list = [[y_train_u_all, y_train_u_r, y_train_u_p],[y_test_u_all, y_test_u_r, y_test_u_p]]\n",
    "for i in range(3):\n",
    "    y_test = usa_y_list[1][i]\n",
    "    clst = SVR(kernel='rbf', C=1e3, gamma=0.01)\n",
    "    y_train = usa_y_list[0][i]\n",
    "    clst.fit(x_train_u, usa_y_list[0][i])\n",
    "    y_predict = clst.predict(x_test_u)\n",
    "    r2 = r_squre(y_test, y_predict)\n",
    "    mse = mean_squared_error(y_test, y_predict, squared=True)\n",
    "    mae = mean_absolute_error(y_test, y_predict)\n",
    "    r2_train = r_squre(y_train,clst.predict(x_train_u))\n",
    "    mse_train = mean_squared_error(y_train, clst.predict(x_train_u), squared=True)\n",
    "    mae_train = mean_absolute_error(y_train, clst.predict(x_train_u))\n",
    "    print(\"For test data: r2 is \",r2,\". MSE is \",mse,\". MAE is \",mae,\".\"\" For training data: r2 is \",r2_train,\". MSE is \",mse_train,\". MAE is \",mae_train,\".\")"
   ]
  },
  {
   "cell_type": "code",
   "execution_count": 106,
   "metadata": {},
   "outputs": [
    {
     "name": "stdout",
     "output_type": "stream",
     "text": [
      "For test data: r2 is  -0.03250080650934706 . MSE is  0.01708084221922152 . MAE is  0.1034671077603408 . For training data: r2 is  0.9875960945805955 . MSE is  0.012336492889951227 . MAE is  0.08877896743635588 .\n",
      "For test data: r2 is  -2.29839390469594 . MSE is  0.03338253511096213 . MAE is  0.16368477893788685 . For training data: r2 is  0.9934963237870474 . MSE is  0.006468330146577779 . MAE is  0.07056745431818731 .\n",
      "For test data: r2 is  0.3648881227307018 . MSE is  0.013638670150191613 . MAE is  0.09413827675703454 . For training data: r2 is  0.9918897261236547 . MSE is  0.00806619630093046 . MAE is  0.07782530092582868 .\n"
     ]
    }
   ],
   "source": [
    "# China\n",
    "china_y_list = [[y_train_c_all, y_train_c_r, y_train_c_p],[y_test_c_all, y_test_c_r, y_test_c_p]]\n",
    "for i in range(3):\n",
    "    y_test = china_y_list[1][i]\n",
    "    clst = SVR(kernel='rbf', C=1e3, gamma=0.01)\n",
    "    y_train = china_y_list[0][i]\n",
    "    clst.fit(x_train_c, y_train)\n",
    "    y_predict = clst.predict(x_test_c)\n",
    "    r2 = r_squre(y_test, y_predict)\n",
    "    mse = mean_squared_error(y_test, y_predict, squared=True)\n",
    "    mae = mean_absolute_error(y_test, y_predict)\n",
    "    r2_train = r_squre(y_train,clst.predict(x_train_c))\n",
    "    mse_train = mean_squared_error(y_train, clst.predict(x_train_c), squared=True)\n",
    "    mae_train = mean_absolute_error(y_train, clst.predict(x_train_c))\n",
    "    print(\"For test data: r2 is \",r2,\". MSE is \",mse,\". MAE is \",mae,\".\"\" For training data: r2 is \",r2_train,\". MSE is \",mse_train,\". MAE is \",mae_train,\".\")"
   ]
  },
  {
   "cell_type": "markdown",
   "metadata": {},
   "source": [
    "When kernel = 'rbf', it is overfitting. So we don't choose it."
   ]
  },
  {
   "cell_type": "markdown",
   "metadata": {},
   "source": [
    "When kernel = 'poly'."
   ]
  },
  {
   "cell_type": "code",
   "execution_count": 109,
   "metadata": {},
   "outputs": [
    {
     "name": "stdout",
     "output_type": "stream",
     "text": [
      "For test data: r2 is  -5.477555879641066 . MSE is  0.15555680727537058 . MAE is  0.32907520211203867 . For training data: r2 is  0.9915910300136312 . MSE is  0.008363269062529767 . MAE is  0.08155313615961034 .\n",
      "For test data: r2 is  -8.009146315018432 . MSE is  0.057634744490135906 . MAE is  0.1890364472890856 . For training data: r2 is  0.9936580047647608 . MSE is  0.00630752786983024 . MAE is  0.07130342149297063 .\n",
      "For test data: r2 is  -2.5297620557027747 . MSE is  0.3252896067330919 . MAE is  0.40982396440785157 . For training data: r2 is  0.9854169947016189 . MSE is  0.01450374983480294 . MAE is  0.10088103405183689 .\n"
     ]
    }
   ],
   "source": [
    "for i in range(3):\n",
    "    y_test = usa_y_list[1][i]\n",
    "    clst = SVR(kernel='poly', C=100, gamma='auto', degree=3, epsilon=.1,coef0=1)\n",
    "    y_train = usa_y_list[0][i]\n",
    "    clst.fit(x_train_u, usa_y_list[0][i])\n",
    "    y_predict = clst.predict(x_test_u)\n",
    "    r2 = r_squre(y_test, y_predict)\n",
    "    mse = mean_squared_error(y_test, y_predict, squared=True)\n",
    "    mae = mean_absolute_error(y_test, y_predict)\n",
    "    r2_train = r_squre(y_train,clst.predict(x_train_u))\n",
    "    mse_train = mean_squared_error(y_train, clst.predict(x_train_u), squared=True)\n",
    "    mae_train = mean_absolute_error(y_train, clst.predict(x_train_u))\n",
    "    print(\"For test data: r2 is \",r2,\". MSE is \",mse,\". MAE is \",mae,\".\"\" For training data: r2 is \",r2_train,\". MSE is \",mse_train,\". MAE is \",mae_train,\".\")"
   ]
  },
  {
   "cell_type": "code",
   "execution_count": 110,
   "metadata": {},
   "outputs": [
    {
     "name": "stdout",
     "output_type": "stream",
     "text": [
      "For test data: r2 is  -5.453176073763052 . MSE is  0.1067560254034574 . MAE is  0.28464997065372244 . For training data: r2 is  0.9912479818165636 . MSE is  0.008704452867222047 . MAE is  0.08134058402682907 .\n",
      "For test data: r2 is  -6.257356297636952 . MSE is  0.07345058183430068 . MAE is  0.248892300192347 . For training data: r2 is  0.993570563550622 . MSE is  0.0063944938599791515 . MAE is  0.07321767991864543 .\n",
      "For test data: r2 is  -1.7056687798250039 . MSE is  0.05810271441051588 . MAE is  0.2072560441761698 . For training data: r2 is  0.9929959761475777 . MSE is  0.0069659585053982636 . MAE is  0.07768788007261762 .\n"
     ]
    }
   ],
   "source": [
    "china_y_list = [[y_train_c_all, y_train_c_r, y_train_c_p],[y_test_c_all, y_test_c_r, y_test_c_p]]\n",
    "for i in range(3):\n",
    "    y_test = china_y_list[1][i]\n",
    "    clst = SVR(kernel='poly', C=100, gamma='auto', degree=3, epsilon=.1,coef0=1)\n",
    "    y_train = china_y_list[0][i]\n",
    "    clst.fit(x_train_c, y_train)\n",
    "    y_predict = clst.predict(x_test_c)\n",
    "    r2 = r_squre(y_test, y_predict)\n",
    "    mse = mean_squared_error(y_test, y_predict, squared=True)\n",
    "    mae = mean_absolute_error(y_test, y_predict)\n",
    "    r2_train = r_squre(y_train,clst.predict(x_train_c))\n",
    "    mse_train = mean_squared_error(y_train, clst.predict(x_train_c), squared=True)\n",
    "    mae_train = mean_absolute_error(y_train, clst.predict(x_train_c))\n",
    "    print(\"For test data: r2 is \",r2,\". MSE is \",mse,\". MAE is \",mae,\".\"\" For training data: r2 is \",r2_train,\". MSE is \",mse_train,\". MAE is \",mae_train,\".\")"
   ]
  },
  {
   "cell_type": "markdown",
   "metadata": {},
   "source": [
    "When kernel = 'poly', it is overfitting. So we don't choose it."
   ]
  },
  {
   "cell_type": "code",
   "execution_count": 10,
   "metadata": {},
   "outputs": [
    {
     "name": "stdout",
     "output_type": "stream",
     "text": [
      "[ 0.04963522 -0.01507648  0.03981221 -0.00445732  0.03177864 -0.01814243\n",
      "  0.96541607 -0.15091181 -0.06765874 -0.03307298  0.25837756 -0.03571318\n",
      " -0.00568802]\n",
      "For test data: r2 is  0.5956586373686013 . MSE is  0.006689090191765801 . MAE is  0.06541827627091532 . For training data: r2 is  0.9768574683979976 . MSE is  0.023016756973730675 . MAE is  0.10252616076294159 .\n",
      "[ 0.04183153 -0.01732371  0.02524027  0.00516116  0.00750632 -0.03005918\n",
      "  0.09455811  0.77716528 -0.06623432 -0.05832504  0.22658993 -0.02935916\n",
      "  0.0040531 ]\n",
      "For test data: r2 is  0.36694454321972736 . MSE is  0.006407056471656242 . MAE is  0.06152191744147295 . For training data: r2 is  0.9902815727146561 . MSE is  0.009665609745749665 . MAE is  0.07070494846317905 .\n",
      "[ 0.05089136 -0.02256195  0.00374219  0.04170071 -0.0252404  -0.06623634\n",
      "  0.13955761 -0.22554767  0.8456412  -0.04164093  0.27002699 -0.03297346\n",
      "  0.00107482]\n",
      "For test data: r2 is  0.3340525994190904 . MSE is  0.014300845660377025 . MAE is  0.09492839684236187 . For training data: r2 is  0.9861205047145567 . MSE is  0.013804063245848453 . MAE is  0.08993484173198926 .\n"
     ]
    }
   ],
   "source": [
    "# China\n",
    "r2_list = []\n",
    "mse_list = []\n",
    "mae_list = []\n",
    "r2_train_list = []\n",
    "mse_train_list = []\n",
    "mae_train_list = []\n",
    "china_y_list = [[y_train_c_all, y_train_c_r, y_train_c_p],[y_test_c_all, y_test_c_r, y_test_c_p]]\n",
    "for i in range(3):\n",
    "    y_test = china_y_list[1][i]\n",
    "    clst = svm.LinearSVR(max_iter=1000000)\n",
    "    y_train = china_y_list[0][i]\n",
    "    clst.fit(x_train_c, y_train)\n",
    "    print(clst.coef_)\n",
    "    y_predict = clst.predict(x_test_c)\n",
    "    r2 = r_squre(y_test, y_predict)\n",
    "    mse = mean_squared_error(y_test, y_predict, squared=True)\n",
    "    mae = mean_absolute_error(y_test, y_predict)\n",
    "    r2_train = r_squre(y_train,clst.predict(x_train_c))\n",
    "    mse_train = mean_squared_error(y_train, clst.predict(x_train_c), squared=True)\n",
    "    mae_train = mean_absolute_error(y_train, clst.predict(x_train_c))\n",
    "    r2_list.append(r2)\n",
    "    mse_list.append(mse)\n",
    "    mae_list.append(mae)\n",
    "    r2_train_list.append(r2_train)\n",
    "    mse_train_list.append(mse_train)\n",
    "    mae_train_list.append(mae_train)\n",
    "    print(\"For test data: r2 is \",r2,\". MSE is \",mse,\". MAE is \",mae,\".\"\" For training data: r2 is \",r2_train,\". MSE is \",mse_train,\". MAE is \",mae_train,\".\")"
   ]
  },
  {
   "cell_type": "code",
   "execution_count": 11,
   "metadata": {},
   "outputs": [
    {
     "name": "stdout",
     "output_type": "stream",
     "text": [
      "[-0.06608464  0.19089683  0.01236568  0.06317082 -0.07168158 -0.21976356\n",
      "  0.14164116 -0.11424217 -0.03211752  0.9173968   0.08370039 -0.05365401\n",
      "  0.01956328]\n",
      "For test data: r2 is  0.7706733612484439 . MSE is  0.005507219144107341 . MAE is  0.057025592339194596 . For training data: r2 is  0.9411468322864107 . MSE is  0.05853331354123275 . MAE is  0.14560425952990916 .\n",
      "[-0.05518526  0.10989771  0.10340542  0.01889773 -0.024395   -0.09685489\n",
      "  0.0670007  -0.05168693  0.00177976 -0.005476    0.90512527 -0.01776841\n",
      "  0.00830336]\n",
      "For test data: r2 is  0.032531435788846874 . MSE is  0.006189243858499192 . MAE is  0.05952836175428026 . For training data: r2 is  0.9785642939056739 . MSE is  0.02131920769163951 . MAE is  0.09668761603480894 .\n",
      "[-0.08859082  0.35325944  0.07457713  0.03887549 -0.04759029 -0.44568559\n",
      "  0.22614854 -0.2838888  -0.2759357   0.16157646 -0.09448128  0.83857056\n",
      "  0.02515727]\n",
      "For test data: r2 is  0.6833919568405482 . MSE is  0.029177407491669204 . MAE is  0.14150507795343398 . For training data: r2 is  0.894964211217853 . MSE is  0.10446494210398313 . MAE is  0.20050786125907633 .\n"
     ]
    }
   ],
   "source": [
    "# USA\n",
    "usa_y_list = [[y_train_u_all, y_train_u_r, y_train_u_p],[y_test_u_all, y_test_u_r, y_test_u_p]]\n",
    "for i in range(3):\n",
    "    y_test = usa_y_list[1][i]\n",
    "    clst = svm.LinearSVR(max_iter=1000000)\n",
    "    y_train = usa_y_list[0][i]\n",
    "    clst.fit(x_train_u, usa_y_list[0][i])\n",
    "    print(clst.coef_)\n",
    "    y_predict = clst.predict(x_test_u)\n",
    "    r2 = r_squre(y_test, y_predict)\n",
    "    mse = mean_squared_error(y_test, y_predict, squared=True)\n",
    "    mae = mean_absolute_error(y_test, y_predict)\n",
    "    r2_train = r_squre(y_train,clst.predict(x_train_u))\n",
    "    mse_train = mean_squared_error(y_train, clst.predict(x_train_u), squared=True)\n",
    "    mae_train = mean_absolute_error(y_train, clst.predict(x_train_u))\n",
    "    r2_list.append(r2)\n",
    "    mse_list.append(mse)\n",
    "    mae_list.append(mae)\n",
    "    r2_train_list.append(r2_train)\n",
    "    mse_train_list.append(mse_train)\n",
    "    mae_train_list.append(mae_train)\n",
    "    print(\"For test data: r2 is \",r2,\". MSE is \",mse,\". MAE is \",mae,\".\"\" For training data: r2 is \",r2_train,\". MSE is \",mse_train,\". MAE is \",mae_train,\".\")"
   ]
  },
  {
   "cell_type": "code",
   "execution_count": 12,
   "metadata": {},
   "outputs": [],
   "source": [
    "# MSE, MAE \n",
    "pdmse = pd.DataFrame(mse_list,columns = ['SVR'],index = ['China_CSI300','China_Consumer products','China_Healthcare','USA_SP500','USA_Consumer products','USA_Healthcare'])\n",
    "pdmae = pd.DataFrame(mae_list,columns = ['SVR'],index = ['China_CSI300','China_Consumer products','China_Healthcare','USA_SP500','USA_Consumer products','USA_Healthcare'])\n",
    "pdmse_train = pd.DataFrame(mse_train_list,columns = ['SVR'],index = ['China_CSI300','China_Consumer products','China_Healthcare','USA_SP500','USA_Consumer products','USA_Healthcare'])\n",
    "pdmae_train = pd.DataFrame(mae_train_list,columns = ['SVR'],index = ['China_CSI300','China_Consumer products','China_Healthcare','USA_SP500','USA_Consumer products','USA_Healthcare'])"
   ]
  },
  {
   "cell_type": "markdown",
   "metadata": {},
   "source": [
    "Neural Network"
   ]
  },
  {
   "cell_type": "code",
   "execution_count": 15,
   "metadata": {},
   "outputs": [],
   "source": [
    "# Build model by finding the best number\n",
    "def find_nn(x_train,y_train):\n",
    "    # number to choose\n",
    "    fit_deep = 0\n",
    "    nn_range = [250,300,350,400,450,500,550,600,650,700,750]\n",
    "    # score for each number\n",
    "    nn_scores = []\n",
    "    # Find the best number\n",
    "    for i in nn_range:\n",
    "        # here we use 4 layers\n",
    "        mlp =  MLPRegressor(alpha = 1e-5, hidden_layer_sizes = (i,i), random_state = 1)\n",
    "        score = cross_val_score(mlp, x_train, y_train, cv = 3, scoring = 'explained_variance')\n",
    "        # find by looking for the highest score\n",
    "        if score.mean() > max(max(nn_scores,[0])):\n",
    "            fit_deep = i\n",
    "        nn_scores.append(score.mean())\n",
    "    print(fit_deep)\n",
    "    plt.plot(nn_range, nn_scores)\n",
    "    plt.xlabel('depth')\n",
    "    plt.ylabel('cross_score')\n",
    "    figure = plt.figure()\n",
    "    plt.show()"
   ]
  },
  {
   "cell_type": "code",
   "execution_count": 131,
   "metadata": {},
   "outputs": [
    {
     "name": "stdout",
     "output_type": "stream",
     "text": [
      "300\n"
     ]
    },
    {
     "data": {
      "image/png": "[encoded data removed]",
      "text/plain": [
       "<Figure size 432x288 with 1 Axes>"
      ]
     },
     "metadata": {
      "needs_background": "light"
     },
     "output_type": "display_data"
    },
    {
     "data": {
      "text/plain": [
       "<Figure size 432x288 with 0 Axes>"
      ]
     },
     "metadata": {},
     "output_type": "display_data"
    }
   ],
   "source": [
    "# USA SP500\n",
    "find_nn(x_train_u,y_train_u_all)"
   ]
  },
  {
   "cell_type": "code",
   "execution_count": 130,
   "metadata": {},
   "outputs": [
    {
     "name": "stdout",
     "output_type": "stream",
     "text": [
      "300\n"
     ]
    },
    {
     "data": {
      "image/png": "[encoded data removed]",
      "text/plain": [
       "<Figure size 432x288 with 1 Axes>"
      ]
     },
     "metadata": {
      "needs_background": "light"
     },
     "output_type": "display_data"
    },
    {
     "data": {
      "text/plain": [
       "<Figure size 432x288 with 0 Axes>"
      ]
     },
     "metadata": {},
     "output_type": "display_data"
    }
   ],
   "source": [
    "# USA retail\n",
    "find_nn(x_train_u,y_train_u_r)"
   ]
  },
  {
   "cell_type": "code",
   "execution_count": 129,
   "metadata": {},
   "outputs": [
    {
     "name": "stdout",
     "output_type": "stream",
     "text": [
      "450\n"
     ]
    },
    {
     "data": {
      "image/png": "[encoded data removed]",
      "text/plain": [
       "<Figure size 432x288 with 1 Axes>"
      ]
     },
     "metadata": {
      "needs_background": "light"
     },
     "output_type": "display_data"
    },
    {
     "data": {
      "text/plain": [
       "<Figure size 432x288 with 0 Axes>"
      ]
     },
     "metadata": {},
     "output_type": "display_data"
    }
   ],
   "source": [
    "# USA phar\n",
    "find_nn(x_train_u,y_train_u_p)"
   ]
  },
  {
   "cell_type": "code",
   "execution_count": 128,
   "metadata": {},
   "outputs": [
    {
     "name": "stdout",
     "output_type": "stream",
     "text": [
      "450\n"
     ]
    },
    {
     "data": {
      "image/png": "[encoded data removed]",
      "text/plain": [
       "<Figure size 432x288 with 1 Axes>"
      ]
     },
     "metadata": {
      "needs_background": "light"
     },
     "output_type": "display_data"
    },
    {
     "data": {
      "text/plain": [
       "<Figure size 432x288 with 0 Axes>"
      ]
     },
     "metadata": {},
     "output_type": "display_data"
    }
   ],
   "source": [
    "# China CSI300\n",
    "find_nn(x_train_c,y_train_c_all)"
   ]
  },
  {
   "cell_type": "code",
   "execution_count": 126,
   "metadata": {},
   "outputs": [
    {
     "name": "stdout",
     "output_type": "stream",
     "text": [
      "600\n"
     ]
    },
    {
     "data": {
      "image/png": "[encoded data removed]",
      "text/plain": [
       "<Figure size 432x288 with 1 Axes>"
      ]
     },
     "metadata": {
      "needs_background": "light"
     },
     "output_type": "display_data"
    },
    {
     "data": {
      "text/plain": [
       "<Figure size 432x288 with 0 Axes>"
      ]
     },
     "metadata": {},
     "output_type": "display_data"
    }
   ],
   "source": [
    "# China retail\n",
    "find_nn(x_train_c,y_train_c_r)"
   ]
  },
  {
   "cell_type": "code",
   "execution_count": 127,
   "metadata": {},
   "outputs": [
    {
     "name": "stdout",
     "output_type": "stream",
     "text": [
      "400\n"
     ]
    },
    {
     "data": {
      "image/png": "[encoded data removed]",
      "text/plain": [
       "<Figure size 432x288 with 1 Axes>"
      ]
     },
     "metadata": {
      "needs_background": "light"
     },
     "output_type": "display_data"
    },
    {
     "data": {
      "text/plain": [
       "<Figure size 432x288 with 0 Axes>"
      ]
     },
     "metadata": {},
     "output_type": "display_data"
    }
   ],
   "source": [
    "# China phar\n",
    "find_nn(x_train_c,y_train_c_p)"
   ]
  },
  {
   "cell_type": "code",
   "execution_count": 16,
   "metadata": {},
   "outputs": [
    {
     "name": "stdout",
     "output_type": "stream",
     "text": [
      "For test data: MSE is  0.05414531986856103 . MAE is  0.20469636834744798 . For training data: MSE is  0.014504622276430519 . MAE is  0.08392826025022872 .\n",
      "For test data: MSE is  0.006750405176763855 . MAE is  0.0719961437984423 . For training data: MSE is  0.006947843020745019 . MAE is  0.062297997897094115 .\n",
      "For test data: MSE is  0.17001448698606988 . MAE is  0.3879429115989939 . For training data: MSE is  0.009840973787749435 . MAE is  0.07715812495732996 .\n"
     ]
    }
   ],
   "source": [
    "# China\n",
    "mse_list = []\n",
    "mae_list = []\n",
    "mse_train_list = []\n",
    "mae_train_list = []\n",
    "china_y_list = [[y_train_c_all, y_train_c_r, y_train_c_p],[y_test_c_all, y_test_c_r, y_test_c_p]]\n",
    "i_list = [450,600,400]\n",
    "for i in range(3):\n",
    "    y_test = china_y_list[1][i]\n",
    "    y_train = china_y_list[0][i]\n",
    "    j = i_list[i]\n",
    "    mlp =  MLPRegressor(alpha = 1e-5, hidden_layer_sizes = (j,j), random_state = 1)\n",
    "    mlp.fit(x_train_c, china_y_list[0][i])\n",
    "    y_predict = mlp.predict(x_test_c)\n",
    "    mse = mean_squared_error(y_test, y_predict, squared=True)\n",
    "    mae = mean_absolute_error(y_test, y_predict)\n",
    "    mse_train = mean_squared_error(y_train, mlp.predict(x_train_c), squared=True)\n",
    "    mae_train = mean_absolute_error(y_train, mlp.predict(x_train_c))\n",
    "    mse_list.append(mse)\n",
    "    mae_list.append(mae)\n",
    "    mse_train_list.append(mse_train)\n",
    "    mae_train_list.append(mae_train)\n",
    "    print(\"For test data: MSE is \",mse,\". MAE is \",mae,\".\"\" For training data: MSE is \",mse_train,\". MAE is \",mae_train,\".\")"
   ]
  },
  {
   "cell_type": "code",
   "execution_count": 17,
   "metadata": {},
   "outputs": [
    {
     "name": "stdout",
     "output_type": "stream",
     "text": [
      "For test data: MSE is  0.07839524748896151 . MAE is  0.2566967858533895 . For training data: MSE is  0.017692006463519823 . MAE is  0.09066779389335261 .\n",
      "For test data: MSE is  0.016523881408886852 . MAE is  0.11435188913964797 . For training data: MSE is  0.011556038705083347 . MAE is  0.078562743284747 .\n",
      "For test data: MSE is  0.01274618937521328 . MAE is  0.09103274425846919 . For training data: MSE is  0.01887837946853573 . MAE is  0.10125709317297155 .\n"
     ]
    }
   ],
   "source": [
    "# USA\n",
    "i_list = [300,300,450]\n",
    "for i in range(3):\n",
    "    y_test = usa_y_list[1][i]\n",
    "    y_train = usa_y_list[0][i]\n",
    "    j = i_list[i]\n",
    "    mlp =  MLPRegressor(alpha = 1e-5, hidden_layer_sizes = (j,j), random_state = 1)\n",
    "    mlp.fit(x_train_u, usa_y_list[0][i])\n",
    "    y_predict = mlp.predict(x_test_u)\n",
    "    mse = mean_squared_error(y_test, y_predict, squared=True)\n",
    "    mae = mean_absolute_error(y_test, y_predict)\n",
    "    mse_train = mean_squared_error(y_train, mlp.predict(x_train_u), squared=True)\n",
    "    mae_train = mean_absolute_error(y_train, mlp.predict(x_train_u))\n",
    "    mse_list.append(mse)\n",
    "    mae_list.append(mae)\n",
    "    mse_train_list.append(mse_train)\n",
    "    mae_train_list.append(mae_train)\n",
    "    print(\"For test data: MSE is \",mse,\". MAE is \",mae,\".\"\" For training data: MSE is \",mse_train,\". MAE is \",mae_train,\".\")"
   ]
  },
  {
   "cell_type": "code",
   "execution_count": 18,
   "metadata": {},
   "outputs": [],
   "source": [
    "# MSE, MAE \n",
    "nmse = pd.DataFrame(mse_list,columns = ['NN'],index = ['China_CSI300','China_Consumer products','China_Healthcare','USA_SP500','USA_Consumer products','USA_Healthcare'])\n",
    "nmae = pd.DataFrame(mae_list,columns = ['NN'],index = ['China_CSI300','China_Consumer products','China_Healthcare','USA_SP500','USA_Consumer products','USA_Healthcare'])\n",
    "pdmse = pd.concat([pdmse,nmse],axis = 1)\n",
    "pdmae = pd.concat([pdmae,nmae],axis = 1)\n",
    "nmse_train = pd.DataFrame(mse_train_list,columns = ['NN'],index = ['China_CSI300','China_Consumer products','China_Healthcare','USA_SP500','USA_Consumer products','USA_Healthcare'])\n",
    "nmae_train = pd.DataFrame(mae_train_list,columns = ['NN'],index = ['China_CSI300','China_Consumer products','China_Healthcare','USA_SP500','USA_Consumer products','USA_Healthcare'])\n",
    "pdmse_train = pd.concat([pdmse_train,nmse_train],axis = 1)\n",
    "pdmae_train = pd.concat([pdmae_train,nmae_train],axis = 1)"
   ]
  },
  {
   "cell_type": "code",
   "execution_count": 21,
   "metadata": {},
   "outputs": [
    {
     "data": {
      "text/html": [
       "<div>\n",
       "<style scoped>\n",
       "    .dataframe tbody tr th:only-of-type {\n",
       "        vertical-align: middle;\n",
       "    }\n",
       "\n",
       "    .dataframe tbody tr th {\n",
       "        vertical-align: top;\n",
       "    }\n",
       "\n",
       "    .dataframe thead th {\n",
       "        text-align: right;\n",
       "    }\n",
       "</style>\n",
       "<table border=\"1\" class=\"dataframe\">\n",
       "  <thead>\n",
       "    <tr style=\"text-align: right;\">\n",
       "      <th></th>\n",
       "      <th>SVR</th>\n",
       "      <th>NN</th>\n",
       "    </tr>\n",
       "  </thead>\n",
       "  <tbody>\n",
       "    <tr>\n",
       "      <th>China_CSI300</th>\n",
       "      <td>0.102526</td>\n",
       "      <td>0.083928</td>\n",
       "    </tr>\n",
       "    <tr>\n",
       "      <th>China_Consumer products</th>\n",
       "      <td>0.070705</td>\n",
       "      <td>0.062298</td>\n",
       "    </tr>\n",
       "    <tr>\n",
       "      <th>China_Healthcare</th>\n",
       "      <td>0.089935</td>\n",
       "      <td>0.077158</td>\n",
       "    </tr>\n",
       "    <tr>\n",
       "      <th>USA_SP500</th>\n",
       "      <td>0.145604</td>\n",
       "      <td>0.090668</td>\n",
       "    </tr>\n",
       "    <tr>\n",
       "      <th>USA_Consumer products</th>\n",
       "      <td>0.096688</td>\n",
       "      <td>0.078563</td>\n",
       "    </tr>\n",
       "    <tr>\n",
       "      <th>USA_Healthcare</th>\n",
       "      <td>0.200508</td>\n",
       "      <td>0.101257</td>\n",
       "    </tr>\n",
       "  </tbody>\n",
       "</table>\n",
       "</div>"
      ],
      "text/plain": [
       "                              SVR        NN\n",
       "China_CSI300             0.102526  0.083928\n",
       "China_Consumer products  0.070705  0.062298\n",
       "China_Healthcare         0.089935  0.077158\n",
       "USA_SP500                0.145604  0.090668\n",
       "USA_Consumer products    0.096688  0.078563\n",
       "USA_Healthcare           0.200508  0.101257"
      ]
     },
     "execution_count": 21,
     "metadata": {},
     "output_type": "execute_result"
    }
   ],
   "source": [
    "pdmae_train"
   ]
  },
  {
   "cell_type": "code",
   "execution_count": 22,
   "metadata": {},
   "outputs": [
    {
     "data": {
      "text/html": [
       "<div>\n",
       "<style scoped>\n",
       "    .dataframe tbody tr th:only-of-type {\n",
       "        vertical-align: middle;\n",
       "    }\n",
       "\n",
       "    .dataframe tbody tr th {\n",
       "        vertical-align: top;\n",
       "    }\n",
       "\n",
       "    .dataframe thead th {\n",
       "        text-align: right;\n",
       "    }\n",
       "</style>\n",
       "<table border=\"1\" class=\"dataframe\">\n",
       "  <thead>\n",
       "    <tr style=\"text-align: right;\">\n",
       "      <th></th>\n",
       "      <th>SVR</th>\n",
       "      <th>NN</th>\n",
       "    </tr>\n",
       "  </thead>\n",
       "  <tbody>\n",
       "    <tr>\n",
       "      <th>China_CSI300</th>\n",
       "      <td>0.065418</td>\n",
       "      <td>0.204696</td>\n",
       "    </tr>\n",
       "    <tr>\n",
       "      <th>China_Consumer products</th>\n",
       "      <td>0.061522</td>\n",
       "      <td>0.071996</td>\n",
       "    </tr>\n",
       "    <tr>\n",
       "      <th>China_Healthcare</th>\n",
       "      <td>0.094928</td>\n",
       "      <td>0.387943</td>\n",
       "    </tr>\n",
       "    <tr>\n",
       "      <th>USA_SP500</th>\n",
       "      <td>0.057026</td>\n",
       "      <td>0.256697</td>\n",
       "    </tr>\n",
       "    <tr>\n",
       "      <th>USA_Consumer products</th>\n",
       "      <td>0.059528</td>\n",
       "      <td>0.114352</td>\n",
       "    </tr>\n",
       "    <tr>\n",
       "      <th>USA_Healthcare</th>\n",
       "      <td>0.141505</td>\n",
       "      <td>0.091033</td>\n",
       "    </tr>\n",
       "  </tbody>\n",
       "</table>\n",
       "</div>"
      ],
      "text/plain": [
       "                              SVR        NN\n",
       "China_CSI300             0.065418  0.204696\n",
       "China_Consumer products  0.061522  0.071996\n",
       "China_Healthcare         0.094928  0.387943\n",
       "USA_SP500                0.057026  0.256697\n",
       "USA_Consumer products    0.059528  0.114352\n",
       "USA_Healthcare           0.141505  0.091033"
      ]
     },
     "execution_count": 22,
     "metadata": {},
     "output_type": "execute_result"
    }
   ],
   "source": [
    "pdmae"
   ]
  },
  {
   "cell_type": "code",
   "execution_count": 23,
   "metadata": {},
   "outputs": [
    {
     "data": {
      "text/html": [
       "<div>\n",
       "<style scoped>\n",
       "    .dataframe tbody tr th:only-of-type {\n",
       "        vertical-align: middle;\n",
       "    }\n",
       "\n",
       "    .dataframe tbody tr th {\n",
       "        vertical-align: top;\n",
       "    }\n",
       "\n",
       "    .dataframe thead th {\n",
       "        text-align: right;\n",
       "    }\n",
       "</style>\n",
       "<table border=\"1\" class=\"dataframe\">\n",
       "  <thead>\n",
       "    <tr style=\"text-align: right;\">\n",
       "      <th></th>\n",
       "      <th>SVR</th>\n",
       "      <th>NN</th>\n",
       "    </tr>\n",
       "  </thead>\n",
       "  <tbody>\n",
       "    <tr>\n",
       "      <th>China_CSI300</th>\n",
       "      <td>0.023017</td>\n",
       "      <td>0.014505</td>\n",
       "    </tr>\n",
       "    <tr>\n",
       "      <th>China_Consumer products</th>\n",
       "      <td>0.009666</td>\n",
       "      <td>0.006948</td>\n",
       "    </tr>\n",
       "    <tr>\n",
       "      <th>China_Healthcare</th>\n",
       "      <td>0.013804</td>\n",
       "      <td>0.009841</td>\n",
       "    </tr>\n",
       "    <tr>\n",
       "      <th>USA_SP500</th>\n",
       "      <td>0.058533</td>\n",
       "      <td>0.017692</td>\n",
       "    </tr>\n",
       "    <tr>\n",
       "      <th>USA_Consumer products</th>\n",
       "      <td>0.021319</td>\n",
       "      <td>0.011556</td>\n",
       "    </tr>\n",
       "    <tr>\n",
       "      <th>USA_Healthcare</th>\n",
       "      <td>0.104465</td>\n",
       "      <td>0.018878</td>\n",
       "    </tr>\n",
       "  </tbody>\n",
       "</table>\n",
       "</div>"
      ],
      "text/plain": [
       "                              SVR        NN\n",
       "China_CSI300             0.023017  0.014505\n",
       "China_Consumer products  0.009666  0.006948\n",
       "China_Healthcare         0.013804  0.009841\n",
       "USA_SP500                0.058533  0.017692\n",
       "USA_Consumer products    0.021319  0.011556\n",
       "USA_Healthcare           0.104465  0.018878"
      ]
     },
     "execution_count": 23,
     "metadata": {},
     "output_type": "execute_result"
    }
   ],
   "source": [
    "pdmse_train"
   ]
  },
  {
   "cell_type": "code",
   "execution_count": 24,
   "metadata": {},
   "outputs": [
    {
     "data": {
      "text/html": [
       "<div>\n",
       "<style scoped>\n",
       "    .dataframe tbody tr th:only-of-type {\n",
       "        vertical-align: middle;\n",
       "    }\n",
       "\n",
       "    .dataframe tbody tr th {\n",
       "        vertical-align: top;\n",
       "    }\n",
       "\n",
       "    .dataframe thead th {\n",
       "        text-align: right;\n",
       "    }\n",
       "</style>\n",
       "<table border=\"1\" class=\"dataframe\">\n",
       "  <thead>\n",
       "    <tr style=\"text-align: right;\">\n",
       "      <th></th>\n",
       "      <th>SVR</th>\n",
       "      <th>NN</th>\n",
       "    </tr>\n",
       "  </thead>\n",
       "  <tbody>\n",
       "    <tr>\n",
       "      <th>China_CSI300</th>\n",
       "      <td>0.006689</td>\n",
       "      <td>0.054145</td>\n",
       "    </tr>\n",
       "    <tr>\n",
       "      <th>China_Consumer products</th>\n",
       "      <td>0.006407</td>\n",
       "      <td>0.006750</td>\n",
       "    </tr>\n",
       "    <tr>\n",
       "      <th>China_Healthcare</th>\n",
       "      <td>0.014301</td>\n",
       "      <td>0.170014</td>\n",
       "    </tr>\n",
       "    <tr>\n",
       "      <th>USA_SP500</th>\n",
       "      <td>0.005507</td>\n",
       "      <td>0.078395</td>\n",
       "    </tr>\n",
       "    <tr>\n",
       "      <th>USA_Consumer products</th>\n",
       "      <td>0.006189</td>\n",
       "      <td>0.016524</td>\n",
       "    </tr>\n",
       "    <tr>\n",
       "      <th>USA_Healthcare</th>\n",
       "      <td>0.029177</td>\n",
       "      <td>0.012746</td>\n",
       "    </tr>\n",
       "  </tbody>\n",
       "</table>\n",
       "</div>"
      ],
      "text/plain": [
       "                              SVR        NN\n",
       "China_CSI300             0.006689  0.054145\n",
       "China_Consumer products  0.006407  0.006750\n",
       "China_Healthcare         0.014301  0.170014\n",
       "USA_SP500                0.005507  0.078395\n",
       "USA_Consumer products    0.006189  0.016524\n",
       "USA_Healthcare           0.029177  0.012746"
      ]
     },
     "execution_count": 24,
     "metadata": {},
     "output_type": "execute_result"
    }
   ],
   "source": [
    "pdmse"
   ]
  },
  {
   "cell_type": "markdown",
   "metadata": {},
   "source": [
    "MSE & MAE"
   ]
  },
  {
   "cell_type": "code",
   "execution_count": 50,
   "metadata": {},
   "outputs": [],
   "source": [
    "# We collect mse and mae data from Julia code\n",
    "# Quadratic+l1\n",
    "mse1_list = [0.0056675262,0.004179232,0.00463191488,0.00834485146,0.00620750251,0.0076500688]\n",
    "mae1_list = [0.0654235421,0.058982864,0.06048266580,0.06547733314,0.07015449880,0.0699234155]\n",
    "nmse = pd.DataFrame(mse1_list,columns = ['Quadratic+l1'],index = ['China_CSI300','China_Consumer products','China_Healthcare','USA_SP500','USA_Consumer products','USA_Healthcare'])\n",
    "nmae = pd.DataFrame(mae1_list,columns = ['Quadratic+l1'],index = ['China_CSI300','China_Consumer products','China_Healthcare','USA_SP500','USA_Consumer products','USA_Healthcare'])\n",
    "pdmse_train = pd.concat([pdmse_train,nmse],axis = 1)\n",
    "pdmae_train = pd.concat([pdmae_train,nmae],axis = 1)\n",
    "\n",
    "mse1_test_list = [0.00658264,0.007436762,0.0023011219,0.006920972,0.0058238115,0.0002598585]\n",
    "mae1_test_list = [0.07957962,0.085442968,0.0441548061,0.081836681,0.0746842568,0.0141510298]\n",
    "nmse = pd.DataFrame(mse1_test_list,columns = ['Quadratic+l1'],index = ['China_CSI300','China_Consumer products','China_Healthcare','USA_SP500','USA_Consumer products','USA_Healthcare'])\n",
    "nmae = pd.DataFrame(mae1_test_list,columns = ['Quadratic+l1'],index = ['China_CSI300','China_Consumer products','China_Healthcare','USA_SP500','USA_Consumer products','USA_Healthcare'])\n",
    "pdmse = pd.concat([pdmse,nmse],axis = 1)\n",
    "pdmae = pd.concat([pdmae,nmae],axis = 1)"
   ]
  },
  {
   "cell_type": "code",
   "execution_count": 51,
   "metadata": {},
   "outputs": [],
   "source": [
    "# Quadratic+l2\n",
    "mse2_list = [0.00684214889,0.0093589136,0.0075627205,0.0071973823,0.00636182509,0.00631015334]\n",
    "mae2_list = [0.05320435854,0.0655482328,0.0567373750,0.0625305587,0.06160085747,0.06473200953]\n",
    "nmse = pd.DataFrame(mse2_list,columns = ['Quadratic+l2'],index = ['China_CSI300','China_Consumer products','China_Healthcare','USA_SP500','USA_Consumer products','USA_Healthcare'])\n",
    "nmae = pd.DataFrame(mae2_list,columns = ['Quadratic+l2'],index = ['China_CSI300','China_Consumer products','China_Healthcare','USA_SP500','USA_Consumer products','USA_Healthcare'])\n",
    "pdmse_train = pd.concat([pdmse_train,nmse],axis = 1)\n",
    "pdmae_train = pd.concat([pdmae_train,nmae],axis = 1)\n",
    "\n",
    "mse2_test_list = [0.001452254,0.0021418142,0.0273248561,0.00067464021,0.0016406149,0.00634160103]\n",
    "mae2_test_list = [0.030550967,0.0380705204,0.1577910055,0.02077935390,0.0322777916,0.07741394394]\n",
    "nmse = pd.DataFrame(mse2_test_list,columns = ['Quadratic+l2'],index = ['China_CSI300','China_Consumer products','China_Healthcare','USA_SP500','USA_Consumer products','USA_Healthcare'])\n",
    "nmae = pd.DataFrame(mae2_test_list,columns = ['Quadratic+l2'],index = ['China_CSI300','China_Consumer products','China_Healthcare','USA_SP500','USA_Consumer products','USA_Healthcare'])\n",
    "pdmse = pd.concat([pdmse,nmse],axis = 1)\n",
    "pdmae = pd.concat([pdmae,nmae],axis = 1)"
   ]
  },
  {
   "cell_type": "code",
   "execution_count": 59,
   "metadata": {},
   "outputs": [
    {
     "data": {
      "text/html": [
       "<div>\n",
       "<style scoped>\n",
       "    .dataframe tbody tr th:only-of-type {\n",
       "        vertical-align: middle;\n",
       "    }\n",
       "\n",
       "    .dataframe tbody tr th {\n",
       "        vertical-align: top;\n",
       "    }\n",
       "\n",
       "    .dataframe thead th {\n",
       "        text-align: right;\n",
       "    }\n",
       "</style>\n",
       "<table border=\"1\" class=\"dataframe\">\n",
       "  <thead>\n",
       "    <tr style=\"text-align: right;\">\n",
       "      <th></th>\n",
       "      <th>SVR</th>\n",
       "      <th>NN</th>\n",
       "      <th>Quadratic+l1</th>\n",
       "      <th>Quadratic+l2</th>\n",
       "    </tr>\n",
       "  </thead>\n",
       "  <tbody>\n",
       "    <tr>\n",
       "      <th>China_CSI300</th>\n",
       "      <td>0.065418</td>\n",
       "      <td>0.204696</td>\n",
       "      <td>0.079580</td>\n",
       "      <td>0.030551</td>\n",
       "    </tr>\n",
       "    <tr>\n",
       "      <th>China_Consumer products</th>\n",
       "      <td>0.061522</td>\n",
       "      <td>0.071996</td>\n",
       "      <td>0.085443</td>\n",
       "      <td>0.038071</td>\n",
       "    </tr>\n",
       "    <tr>\n",
       "      <th>China_Healthcare</th>\n",
       "      <td>0.094928</td>\n",
       "      <td>0.387943</td>\n",
       "      <td>0.044155</td>\n",
       "      <td>0.157791</td>\n",
       "    </tr>\n",
       "    <tr>\n",
       "      <th>USA_SP500</th>\n",
       "      <td>0.057026</td>\n",
       "      <td>0.256697</td>\n",
       "      <td>0.081837</td>\n",
       "      <td>0.020779</td>\n",
       "    </tr>\n",
       "    <tr>\n",
       "      <th>USA_Consumer products</th>\n",
       "      <td>0.059528</td>\n",
       "      <td>0.114352</td>\n",
       "      <td>0.074684</td>\n",
       "      <td>0.032278</td>\n",
       "    </tr>\n",
       "    <tr>\n",
       "      <th>USA_Healthcare</th>\n",
       "      <td>0.141505</td>\n",
       "      <td>0.091033</td>\n",
       "      <td>0.014151</td>\n",
       "      <td>0.077414</td>\n",
       "    </tr>\n",
       "  </tbody>\n",
       "</table>\n",
       "</div>"
      ],
      "text/plain": [
       "                              SVR        NN  Quadratic+l1  Quadratic+l2\n",
       "China_CSI300             0.065418  0.204696      0.079580      0.030551\n",
       "China_Consumer products  0.061522  0.071996      0.085443      0.038071\n",
       "China_Healthcare         0.094928  0.387943      0.044155      0.157791\n",
       "USA_SP500                0.057026  0.256697      0.081837      0.020779\n",
       "USA_Consumer products    0.059528  0.114352      0.074684      0.032278\n",
       "USA_Healthcare           0.141505  0.091033      0.014151      0.077414"
      ]
     },
     "execution_count": 59,
     "metadata": {},
     "output_type": "execute_result"
    }
   ],
   "source": [
    "pdmae"
   ]
  },
  {
   "cell_type": "code",
   "execution_count": 60,
   "metadata": {},
   "outputs": [
    {
     "data": {
      "text/html": [
       "<div>\n",
       "<style scoped>\n",
       "    .dataframe tbody tr th:only-of-type {\n",
       "        vertical-align: middle;\n",
       "    }\n",
       "\n",
       "    .dataframe tbody tr th {\n",
       "        vertical-align: top;\n",
       "    }\n",
       "\n",
       "    .dataframe thead th {\n",
       "        text-align: right;\n",
       "    }\n",
       "</style>\n",
       "<table border=\"1\" class=\"dataframe\">\n",
       "  <thead>\n",
       "    <tr style=\"text-align: right;\">\n",
       "      <th></th>\n",
       "      <th>SVR</th>\n",
       "      <th>NN</th>\n",
       "      <th>Quadratic+l1</th>\n",
       "      <th>Quadratic+l2</th>\n",
       "    </tr>\n",
       "  </thead>\n",
       "  <tbody>\n",
       "    <tr>\n",
       "      <th>China_CSI300</th>\n",
       "      <td>0.006689</td>\n",
       "      <td>0.054145</td>\n",
       "      <td>0.006583</td>\n",
       "      <td>0.001452</td>\n",
       "    </tr>\n",
       "    <tr>\n",
       "      <th>China_Consumer products</th>\n",
       "      <td>0.006407</td>\n",
       "      <td>0.006750</td>\n",
       "      <td>0.007437</td>\n",
       "      <td>0.002142</td>\n",
       "    </tr>\n",
       "    <tr>\n",
       "      <th>China_Healthcare</th>\n",
       "      <td>0.014301</td>\n",
       "      <td>0.170014</td>\n",
       "      <td>0.002301</td>\n",
       "      <td>0.027325</td>\n",
       "    </tr>\n",
       "    <tr>\n",
       "      <th>USA_SP500</th>\n",
       "      <td>0.005507</td>\n",
       "      <td>0.078395</td>\n",
       "      <td>0.006921</td>\n",
       "      <td>0.000675</td>\n",
       "    </tr>\n",
       "    <tr>\n",
       "      <th>USA_Consumer products</th>\n",
       "      <td>0.006189</td>\n",
       "      <td>0.016524</td>\n",
       "      <td>0.005824</td>\n",
       "      <td>0.001641</td>\n",
       "    </tr>\n",
       "    <tr>\n",
       "      <th>USA_Healthcare</th>\n",
       "      <td>0.029177</td>\n",
       "      <td>0.012746</td>\n",
       "      <td>0.000260</td>\n",
       "      <td>0.006342</td>\n",
       "    </tr>\n",
       "  </tbody>\n",
       "</table>\n",
       "</div>"
      ],
      "text/plain": [
       "                              SVR        NN  Quadratic+l1  Quadratic+l2\n",
       "China_CSI300             0.006689  0.054145      0.006583      0.001452\n",
       "China_Consumer products  0.006407  0.006750      0.007437      0.002142\n",
       "China_Healthcare         0.014301  0.170014      0.002301      0.027325\n",
       "USA_SP500                0.005507  0.078395      0.006921      0.000675\n",
       "USA_Consumer products    0.006189  0.016524      0.005824      0.001641\n",
       "USA_Healthcare           0.029177  0.012746      0.000260      0.006342"
      ]
     },
     "execution_count": 60,
     "metadata": {},
     "output_type": "execute_result"
    }
   ],
   "source": [
    "pdmse"
   ]
  },
  {
   "cell_type": "code",
   "execution_count": 61,
   "metadata": {},
   "outputs": [
    {
     "data": {
      "text/html": [
       "<div>\n",
       "<style scoped>\n",
       "    .dataframe tbody tr th:only-of-type {\n",
       "        vertical-align: middle;\n",
       "    }\n",
       "\n",
       "    .dataframe tbody tr th {\n",
       "        vertical-align: top;\n",
       "    }\n",
       "\n",
       "    .dataframe thead th {\n",
       "        text-align: right;\n",
       "    }\n",
       "</style>\n",
       "<table border=\"1\" class=\"dataframe\">\n",
       "  <thead>\n",
       "    <tr style=\"text-align: right;\">\n",
       "      <th></th>\n",
       "      <th>SVR</th>\n",
       "      <th>NN</th>\n",
       "      <th>Quadratic+l1</th>\n",
       "      <th>Quadratic+l2</th>\n",
       "    </tr>\n",
       "  </thead>\n",
       "  <tbody>\n",
       "    <tr>\n",
       "      <th>China_CSI300</th>\n",
       "      <td>0.102526</td>\n",
       "      <td>0.083928</td>\n",
       "      <td>0.065424</td>\n",
       "      <td>0.053204</td>\n",
       "    </tr>\n",
       "    <tr>\n",
       "      <th>China_Consumer products</th>\n",
       "      <td>0.070705</td>\n",
       "      <td>0.062298</td>\n",
       "      <td>0.058983</td>\n",
       "      <td>0.065548</td>\n",
       "    </tr>\n",
       "    <tr>\n",
       "      <th>China_Healthcare</th>\n",
       "      <td>0.089935</td>\n",
       "      <td>0.077158</td>\n",
       "      <td>0.060483</td>\n",
       "      <td>0.056737</td>\n",
       "    </tr>\n",
       "    <tr>\n",
       "      <th>USA_SP500</th>\n",
       "      <td>0.145604</td>\n",
       "      <td>0.090668</td>\n",
       "      <td>0.065477</td>\n",
       "      <td>0.062531</td>\n",
       "    </tr>\n",
       "    <tr>\n",
       "      <th>USA_Consumer products</th>\n",
       "      <td>0.096688</td>\n",
       "      <td>0.078563</td>\n",
       "      <td>0.070154</td>\n",
       "      <td>0.061601</td>\n",
       "    </tr>\n",
       "    <tr>\n",
       "      <th>USA_Healthcare</th>\n",
       "      <td>0.200508</td>\n",
       "      <td>0.101257</td>\n",
       "      <td>0.069923</td>\n",
       "      <td>0.064732</td>\n",
       "    </tr>\n",
       "  </tbody>\n",
       "</table>\n",
       "</div>"
      ],
      "text/plain": [
       "                              SVR        NN  Quadratic+l1  Quadratic+l2\n",
       "China_CSI300             0.102526  0.083928      0.065424      0.053204\n",
       "China_Consumer products  0.070705  0.062298      0.058983      0.065548\n",
       "China_Healthcare         0.089935  0.077158      0.060483      0.056737\n",
       "USA_SP500                0.145604  0.090668      0.065477      0.062531\n",
       "USA_Consumer products    0.096688  0.078563      0.070154      0.061601\n",
       "USA_Healthcare           0.200508  0.101257      0.069923      0.064732"
      ]
     },
     "execution_count": 61,
     "metadata": {},
     "output_type": "execute_result"
    }
   ],
   "source": [
    "pdmae_train"
   ]
  },
  {
   "cell_type": "code",
   "execution_count": 62,
   "metadata": {},
   "outputs": [
    {
     "data": {
      "text/html": [
       "<div>\n",
       "<style scoped>\n",
       "    .dataframe tbody tr th:only-of-type {\n",
       "        vertical-align: middle;\n",
       "    }\n",
       "\n",
       "    .dataframe tbody tr th {\n",
       "        vertical-align: top;\n",
       "    }\n",
       "\n",
       "    .dataframe thead th {\n",
       "        text-align: right;\n",
       "    }\n",
       "</style>\n",
       "<table border=\"1\" class=\"dataframe\">\n",
       "  <thead>\n",
       "    <tr style=\"text-align: right;\">\n",
       "      <th></th>\n",
       "      <th>SVR</th>\n",
       "      <th>NN</th>\n",
       "      <th>Quadratic+l1</th>\n",
       "      <th>Quadratic+l2</th>\n",
       "    </tr>\n",
       "  </thead>\n",
       "  <tbody>\n",
       "    <tr>\n",
       "      <th>China_CSI300</th>\n",
       "      <td>0.023017</td>\n",
       "      <td>0.014505</td>\n",
       "      <td>0.005668</td>\n",
       "      <td>0.006842</td>\n",
       "    </tr>\n",
       "    <tr>\n",
       "      <th>China_Consumer products</th>\n",
       "      <td>0.009666</td>\n",
       "      <td>0.006948</td>\n",
       "      <td>0.004179</td>\n",
       "      <td>0.009359</td>\n",
       "    </tr>\n",
       "    <tr>\n",
       "      <th>China_Healthcare</th>\n",
       "      <td>0.013804</td>\n",
       "      <td>0.009841</td>\n",
       "      <td>0.004632</td>\n",
       "      <td>0.007563</td>\n",
       "    </tr>\n",
       "    <tr>\n",
       "      <th>USA_SP500</th>\n",
       "      <td>0.058533</td>\n",
       "      <td>0.017692</td>\n",
       "      <td>0.008345</td>\n",
       "      <td>0.007197</td>\n",
       "    </tr>\n",
       "    <tr>\n",
       "      <th>USA_Consumer products</th>\n",
       "      <td>0.021319</td>\n",
       "      <td>0.011556</td>\n",
       "      <td>0.006208</td>\n",
       "      <td>0.006362</td>\n",
       "    </tr>\n",
       "    <tr>\n",
       "      <th>USA_Healthcare</th>\n",
       "      <td>0.104465</td>\n",
       "      <td>0.018878</td>\n",
       "      <td>0.007650</td>\n",
       "      <td>0.006310</td>\n",
       "    </tr>\n",
       "  </tbody>\n",
       "</table>\n",
       "</div>"
      ],
      "text/plain": [
       "                              SVR        NN  Quadratic+l1  Quadratic+l2\n",
       "China_CSI300             0.023017  0.014505      0.005668      0.006842\n",
       "China_Consumer products  0.009666  0.006948      0.004179      0.009359\n",
       "China_Healthcare         0.013804  0.009841      0.004632      0.007563\n",
       "USA_SP500                0.058533  0.017692      0.008345      0.007197\n",
       "USA_Consumer products    0.021319  0.011556      0.006208      0.006362\n",
       "USA_Healthcare           0.104465  0.018878      0.007650      0.006310"
      ]
     },
     "execution_count": 62,
     "metadata": {},
     "output_type": "execute_result"
    }
   ],
   "source": [
    "pdmse_train"
   ]
  },
  {
   "cell_type": "code",
   "execution_count": 94,
   "metadata": {},
   "outputs": [],
   "source": [
    "# Plot\n",
    "def plot_mse(pdmse):\n",
    "    labels = pdmse.index\n",
    "\n",
    "    x_list = []\n",
    "    for j in pdmse.columns:\n",
    "        x_list.append([pdmse[j][i] for i in range(6)])\n",
    "        \n",
    "    x = np.arange(len(labels))  # the label locations\n",
    "    width = 0.1  # the width of the bars\n",
    "    widthlist = [-0.15,-0.05,0.05,0.15]\n",
    "\n",
    "    fig, ax = plt.subplots(figsize=(12,6))\n",
    "    for i in range(len(pdmse.columns)):\n",
    "        ax.bar(x + widthlist[i], np.array(x_list[i]),width,label = pdmse.columns[i])\n",
    "\n",
    "    # Add some text for labels, title and custom x-axis tick labels, etc.\n",
    "    ax.set_ylabel('MSE')\n",
    "    ax.set_xticks(x)\n",
    "    ax.set_xticklabels(labels)\n",
    "    ax.legend()\n",
    "    plt.show()"
   ]
  },
  {
   "cell_type": "code",
   "execution_count": 112,
   "metadata": {},
   "outputs": [],
   "source": [
    "# Plot\n",
    "def plot_mae(pdmae):\n",
    "    labels = pdmae.index\n",
    "\n",
    "    x_list = []\n",
    "    for j in pdmae.columns:\n",
    "        x_list.append([pdmae[j][i] for i in range(6)])\n",
    "        \n",
    "    x = np.arange(len(labels))  # the label locations\n",
    "    width = 0.1  # the width of the bars\n",
    "    widthlist = [-0.15,-0.05,0.05,0.15]\n",
    "\n",
    "    fig, ax = plt.subplots(figsize=(12,6))\n",
    "    for i in range(len(pdmae.columns)):\n",
    "        ax.bar(x + widthlist[i], np.array(x_list[i]),width,label = pdmae.columns[i])\n",
    "\n",
    "    # Add some text for labels, title and custom x-axis tick labels, etc.\n",
    "    ax.set_ylabel('MAE')\n",
    "    ax.set_xticks(x)\n",
    "    ax.set_xticklabels(labels)\n",
    "    ax.legend()\n",
    "    plt.show()"
   ]
  },
  {
   "cell_type": "code",
   "execution_count": 113,
   "metadata": {},
   "outputs": [
    {
     "data": {
      "image/png": "[encoded data removed]",
      "text/plain": [
       "<Figure size 864x432 with 1 Axes>"
      ]
     },
     "metadata": {
      "needs_background": "light"
     },
     "output_type": "display_data"
    }
   ],
   "source": [
    "# mae train\n",
    "plot_mae(pdmae_train)"
   ]
  },
  {
   "cell_type": "code",
   "execution_count": 95,
   "metadata": {},
   "outputs": [
    {
     "data": {
      "image/png": "[encoded data removed]",
      "text/plain": [
       "<Figure size 864x432 with 1 Axes>"
      ]
     },
     "metadata": {
      "needs_background": "light"
     },
     "output_type": "display_data"
    }
   ],
   "source": [
    "# mse train\n",
    "plot_mse(pdmse_train)"
   ]
  },
  {
   "cell_type": "code",
   "execution_count": 114,
   "metadata": {},
   "outputs": [
    {
     "data": {
      "image/png": "[encoded data removed]",
      "text/plain": [
       "<Figure size 864x432 with 1 Axes>"
      ]
     },
     "metadata": {
      "needs_background": "light"
     },
     "output_type": "display_data"
    }
   ],
   "source": [
    "# mse \n",
    "plot_mae(pdmae)"
   ]
  },
  {
   "cell_type": "code",
   "execution_count": 98,
   "metadata": {},
   "outputs": [
    {
     "data": {
      "image/png": "[encoded data removed]",
      "text/plain": [
       "<Figure size 864x432 with 1 Axes>"
      ]
     },
     "metadata": {
      "needs_background": "light"
     },
     "output_type": "display_data"
    }
   ],
   "source": [
    "# mse train\n",
    "plot_mse(pdmse)"
   ]
  },
  {
   "cell_type": "markdown",
   "metadata": {},
   "source": [
    "Reference  \n",
    "https://scikit-learn.org/stable/auto_examples/svm/plot_svm_regression.html  \n",
    "https://matplotlib.org/gallery/lines_bars_and_markers/barchart.html#sphx-glr-gallery-lines-bars-and-markers-barchart-py\n",
    "https://cloud.tencent.com/developer/news/570596"
   ]
  }
 ],
 "metadata": {
  "kernelspec": {
   "display_name": "Python 3",
   "language": "python",
   "name": "python3"
  },
  "language_info": {
   "codemirror_mode": {
    "name": "ipython",
    "version": 3
   },
   "file_extension": ".py",
   "mimetype": "text/x-python",
   "name": "python",
   "nbconvert_exporter": "python",
   "pygments_lexer": "ipython3",
   "version": "3.8.3"
  }
 },
 "nbformat": 4,
 "nbformat_minor": 4
}
