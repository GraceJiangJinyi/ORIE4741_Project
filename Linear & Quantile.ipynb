{
 "cells": [
  {
   "cell_type": "code",
   "execution_count": 1,
   "metadata": {},
   "outputs": [
    {
     "name": "stderr",
     "output_type": "stream",
     "text": [
      "┌ Info: Precompiling CSV [336ed68f-0bac-5ca0-87d4-7b16caf5d00b]\n",
      "└ @ Base loading.jl:1278\n",
      "┌ Info: Precompiling Plots [91a5bcdd-55d7-5caf-9e0b-520d859cae80]\n",
      "└ @ Base loading.jl:1278\n",
      "┌ Info: Precompiling LowRankModels [15d4e49f-4837-5ea3-a885-5b28bfa376dc]\n",
      "└ @ Base loading.jl:1278\n",
      "┌ Info: Precompiling PyPlot [d330b81b-6aea-500a-939a-2ce795aea3ee]\n",
      "└ @ Base loading.jl:1278\n",
      "┌ Info: Precompiling GLM [38e38edf-8417-5370-95a0-9cbb8c7f171a]\n",
      "└ @ Base loading.jl:1278\n"
     ]
    }
   ],
   "source": [
    "using Random\n",
    "Random.seed!(13)\n",
    "\n",
    "using CSV, Plots,DataFrames,LinearAlgebra, LowRankModels, Statistics, SparseArrays\n",
    "pyplot()\n",
    "include(\"proxgrad.jl\")\n",
    "using GLM"
   ]
  },
  {
   "cell_type": "code",
   "execution_count": 2,
   "metadata": {},
   "outputs": [
    {
     "name": "stdout",
     "output_type": "stream",
     "text": [
      "1\tColumn1\t\t\tInt64\n",
      "2\tCSI300\t\t\tFloat64\n",
      "3\tcproducts_ch\t\t\tFloat64\n",
      "4\thealthcare_ch\t\t\tFloat64\n",
      "5\tSP500\t\t\tFloat64\n",
      "6\tDJI_Retail\t\t\tFloat64\n",
      "7\tDJI_Pharma\t\t\tFloat64\n",
      "8\tlNew_cases_CH\t\t\tFloat64\n",
      "9\tlNew_deaths_CH\t\t\tFloat64\n",
      "10\tlNew_cases_US\t\t\tFloat64\n",
      "11\tlNew_deaths_US\t\t\tFloat64\n",
      "12\tlCOMEX_Gold\t\t\tFloat64\n",
      "13\tlUS_Tbill_10yr\t\t\tFloat64\n",
      "14\tlCSI300\t\t\tFloat64\n",
      "15\tlcproducts_ch\t\t\tFloat64\n",
      "16\tlhealthcare_ch\t\t\tFloat64\n",
      "17\tlSP500\t\t\tFloat64\n",
      "18\tlDJI_Retail\t\t\tFloat64\n",
      "19\tlDJI_Pharma\t\t\tFloat64\n"
     ]
    }
   ],
   "source": [
    "train = CSV.read(\"train_data.csv\")\n",
    "test = CSV.read(\"test_data.csv\")\n",
    "\n",
    "# let's list all available categories, as well as their datatype using the \"eltype\" function.\n",
    "feature_names = names(train)\n",
    "for i in 1:19\n",
    "    println(string(i), \"\\t\", string(feature_names[i]), \"\\t\\t\\t\", string(eltype(train[!, i])))\n",
    "end"
   ]
  },
  {
   "cell_type": "code",
   "execution_count": 3,
   "metadata": {},
   "outputs": [
    {
     "data": {
      "text/plain": [
       "MSE (generic function with 1 method)"
      ]
     },
     "execution_count": 3,
     "metadata": {},
     "output_type": "execute_result"
    }
   ],
   "source": [
    "function MSE(y, pred)\n",
    "    error=y-pred\n",
    "    mse=0\n",
    "    for i=1:length(error)\n",
    "        mse=mse+error[i]^2\n",
    "    end    \n",
    "    println(\"MSE: \",mse/length(error))\n",
    "end"
   ]
  },
  {
   "cell_type": "code",
   "execution_count": 4,
   "metadata": {},
   "outputs": [
    {
     "data": {
      "text/plain": [
       "MAE (generic function with 1 method)"
      ]
     },
     "execution_count": 4,
     "metadata": {},
     "output_type": "execute_result"
    }
   ],
   "source": [
    "function MAE(y, pred)\n",
    "    error=y-pred\n",
    "    mae=0\n",
    "    for i=1:length(error)\n",
    "        mae=mae+abs(error[i])\n",
    "    end    \n",
    "    println(\"MAE: \",mae/length(error)) \n",
    "end"
   ]
  },
  {
   "cell_type": "code",
   "execution_count": 5,
   "metadata": {},
   "outputs": [
    {
     "data": {
      "text/plain": [
       "R2 (generic function with 1 method)"
      ]
     },
     "execution_count": 5,
     "metadata": {},
     "output_type": "execute_result"
    }
   ],
   "source": [
    "function R2(y, pred)\n",
    "    numerator=0\n",
    "    denominator=0\n",
    "    for i=1:length(y)\n",
    "        numerator = numerator + (y[i] - pred[i])^2\n",
    "        denominator = denominator + (y[i] - mean(y))^2\n",
    "    end\n",
    "    r2_score = 1 - (numerator / denominator)\n",
    "    println(\"R^2: \",r2_score)\n",
    "end"
   ]
  },
  {
   "cell_type": "markdown",
   "metadata": {},
   "source": [
    "# Naive Linear Regression"
   ]
  },
  {
   "cell_type": "markdown",
   "metadata": {},
   "source": [
    "### CSI300"
   ]
  },
  {
   "cell_type": "code",
   "execution_count": 221,
   "metadata": {},
   "outputs": [
    {
     "data": {
      "text/plain": [
       "StatsModels.TableRegressionModel{LinearModel{GLM.LmResp{Array{Float64,1}},GLM.DensePredChol{Float64,Cholesky{Float64,Array{Float64,2}}}},Array{Float64,2}}\n",
       "\n",
       "CSI300 ~ 1 + lNew_cases_CH + lNew_deaths_CH + lNew_cases_US + lNew_deaths_US + lCOMEX_Gold + lUS_Tbill_10yr + lCSI300 + lcproducts_ch + lhealthcare_ch + lSP500 + lDJI_Retail + lDJI_Pharma\n",
       "\n",
       "Coefficients:\n",
       "───────────────────────────────────────────────────────────────────────────────────\n",
       "                       Coef.  Std. Error      t  Pr(>|t|)    Lower 95%    Upper 95%\n",
       "───────────────────────────────────────────────────────────────────────────────────\n",
       "(Intercept)      0.898837     0.333922     2.69    0.0078   0.239696     1.55798\n",
       "lNew_cases_CH    0.00493633   0.00170912   2.89    0.0044   0.00156265   0.00831001\n",
       "lNew_deaths_CH  -0.000458457  0.00275529  -0.17    0.8680  -0.00589722   0.0049803\n",
       "lNew_cases_US    0.00197529   0.00162736   1.21    0.2265  -0.00123701   0.0051876\n",
       "lNew_deaths_US  -0.0016243    0.00246219  -0.66    0.5103  -0.0064845    0.00323591\n",
       "lCOMEX_Gold      0.00636672   0.0595095    0.11    0.9149  -0.111101     0.123835\n",
       "lUS_Tbill_10yr  -0.0255523    0.0134903   -1.89    0.0599  -0.0521813    0.00107667\n",
       "lCSI300          0.960518     0.0740489   12.97    <1e-26   0.814351     1.10669\n",
       "lcproducts_ch   -0.0609224    0.0650026   -0.94    0.3500  -0.189233     0.0673884\n",
       "lhealthcare_ch  -0.100339     0.0490716   -2.04    0.0424  -0.197204    -0.00347529\n",
       "lSP500          -0.0184601    0.0796219   -0.23    0.8169  -0.175628     0.138708\n",
       "lDJI_Retail      0.199576     0.0640281    3.12    0.0021   0.0731886    0.325963\n",
       "lDJI_Pharma     -0.0630471    0.0628295   -1.00    0.3171  -0.187068     0.0609742\n",
       "───────────────────────────────────────────────────────────────────────────────────"
      ]
     },
     "execution_count": 221,
     "metadata": {},
     "output_type": "execute_result"
    }
   ],
   "source": [
    "linearRegressor = lm(@formula(CSI300 ~ lNew_cases_CH + lNew_deaths_CH + lNew_cases_US + lNew_deaths_US +\n",
    "       lCOMEX_Gold + lUS_Tbill_10yr + lCSI300 + lcproducts_ch + lhealthcare_ch + lSP500 + lDJI_Retail + \n",
    "        lDJI_Pharma), train)"
   ]
  },
  {
   "cell_type": "markdown",
   "metadata": {},
   "source": [
    "### cproducts_ch"
   ]
  },
  {
   "cell_type": "code",
   "execution_count": 222,
   "metadata": {},
   "outputs": [
    {
     "data": {
      "text/plain": [
       "StatsModels.TableRegressionModel{LinearModel{GLM.LmResp{Array{Float64,1}},GLM.DensePredChol{Float64,Cholesky{Float64,Array{Float64,2}}}},Array{Float64,2}}\n",
       "\n",
       "cproducts_ch ~ 1 + lNew_cases_CH + lNew_deaths_CH + lNew_cases_US + lNew_deaths_US + lCOMEX_Gold + lUS_Tbill_10yr + lCSI300 + lcproducts_ch + lhealthcare_ch + lSP500 + lDJI_Retail + lDJI_Pharma\n",
       "\n",
       "Coefficients:\n",
       "────────────────────────────────────────────────────────────────────────────────────\n",
       "                       Coef.  Std. Error      t  Pr(>|t|)    Lower 95%     Upper 95%\n",
       "────────────────────────────────────────────────────────────────────────────────────\n",
       "(Intercept)      1.11778      0.380166     2.94    0.0037   0.367361     1.86821\n",
       "lNew_cases_CH    0.00509135   0.00194581   2.62    0.0097   0.00125046   0.00893224\n",
       "lNew_deaths_CH  -0.000926885  0.00313686  -0.30    0.7680  -0.00711884   0.00526507\n",
       "lNew_cases_US    0.00200756   0.00185273   1.08    0.2801  -0.0016496    0.00566473\n",
       "lNew_deaths_US  -0.000871971  0.00280317  -0.31    0.7561  -0.00640525   0.00466131\n",
       "lCOMEX_Gold      0.0391444    0.0677508    0.58    0.5642  -0.0945912    0.17288\n",
       "lUS_Tbill_10yr  -0.0307241    0.0153585   -2.00    0.0470  -0.0610408   -0.000407372\n",
       "lCSI300          0.148302     0.0843036    1.76    0.0803  -0.0181074    0.314712\n",
       "lcproducts_ch    0.734121     0.0740045    9.92    <1e-17   0.588041     0.880201\n",
       "lhealthcare_ch  -0.105606     0.0558674   -1.89    0.0604  -0.215884     0.0046727\n",
       "lSP500          -0.134239     0.0906484   -1.48    0.1405  -0.313173     0.0446952\n",
       "lDJI_Retail      0.367791     0.0728951    5.05    <1e-5    0.223901     0.511681\n",
       "lDJI_Pharma     -0.103708     0.0715305   -1.45    0.1489  -0.244904     0.0374888\n",
       "────────────────────────────────────────────────────────────────────────────────────"
      ]
     },
     "execution_count": 222,
     "metadata": {},
     "output_type": "execute_result"
    }
   ],
   "source": [
    "linearRegressor = lm(@formula(cproducts_ch ~ lNew_cases_CH + lNew_deaths_CH + lNew_cases_US + lNew_deaths_US +\n",
    "       lCOMEX_Gold + lUS_Tbill_10yr + lCSI300 + lcproducts_ch + lhealthcare_ch + lSP500 + lDJI_Retail + \n",
    "        lDJI_Pharma), train)"
   ]
  },
  {
   "cell_type": "markdown",
   "metadata": {},
   "source": [
    "### healthcare_ch"
   ]
  },
  {
   "cell_type": "code",
   "execution_count": 223,
   "metadata": {},
   "outputs": [
    {
     "data": {
      "text/plain": [
       "StatsModels.TableRegressionModel{LinearModel{GLM.LmResp{Array{Float64,1}},GLM.DensePredChol{Float64,Cholesky{Float64,Array{Float64,2}}}},Array{Float64,2}}\n",
       "\n",
       "healthcare_ch ~ 1 + lNew_cases_CH + lNew_deaths_CH + lNew_cases_US + lNew_deaths_US + lCOMEX_Gold + lUS_Tbill_10yr + lCSI300 + lcproducts_ch + lhealthcare_ch + lSP500 + lDJI_Retail + lDJI_Pharma\n",
       "\n",
       "Coefficients:\n",
       "───────────────────────────────────────────────────────────────────────────────────\n",
       "                       Coef.  Std. Error      t  Pr(>|t|)    Lower 95%    Upper 95%\n",
       "───────────────────────────────────────────────────────────────────────────────────\n",
       "(Intercept)      0.944588     0.398546     2.37    0.0189   0.157885     1.73129\n",
       "lNew_cases_CH    0.00596082   0.00203988   2.92    0.0039   0.00193423   0.00998741\n",
       "lNew_deaths_CH  -0.00497405   0.00328852  -1.51    0.1322  -0.0114654    0.00151727\n",
       "lNew_cases_US    0.00240058   0.0019423    1.24    0.2182  -0.0014334    0.00623456\n",
       "lNew_deaths_US  -0.000334884  0.0029387   -0.11    0.9094  -0.00613568   0.00546591\n",
       "lCOMEX_Gold      0.00231035   0.0710263    0.03    0.9741  -0.137891     0.142512\n",
       "lUS_Tbill_10yr  -0.0306007    0.0161011   -1.90    0.0590  -0.0623832    0.00118172\n",
       "lCSI300          0.201663     0.0883794    2.28    0.0237   0.0272081    0.376118\n",
       "lcproducts_ch   -0.189832     0.0775824   -2.45    0.0154  -0.342974    -0.0366891\n",
       "lhealthcare_ch   0.80043      0.0585684   13.67    <1e-28   0.68482      0.91604\n",
       "lSP500          -0.0907943    0.095031    -0.96    0.3407  -0.278379     0.0967905\n",
       "lDJI_Retail      0.295962     0.0764193    3.87    0.0002   0.145115     0.446808\n",
       "lDJI_Pharma     -0.0558976    0.0749888   -0.75    0.4570  -0.203921     0.0921254\n",
       "───────────────────────────────────────────────────────────────────────────────────"
      ]
     },
     "execution_count": 223,
     "metadata": {},
     "output_type": "execute_result"
    }
   ],
   "source": [
    "linearRegressor = lm(@formula(healthcare_ch ~ lNew_cases_CH + lNew_deaths_CH + lNew_cases_US + lNew_deaths_US +\n",
    "       lCOMEX_Gold + lUS_Tbill_10yr + lCSI300 + lcproducts_ch + lhealthcare_ch + lSP500 + lDJI_Retail + \n",
    "        lDJI_Pharma), train)"
   ]
  },
  {
   "cell_type": "markdown",
   "metadata": {},
   "source": [
    "### SP500"
   ]
  },
  {
   "cell_type": "code",
   "execution_count": 224,
   "metadata": {},
   "outputs": [
    {
     "data": {
      "text/plain": [
       "StatsModels.TableRegressionModel{LinearModel{GLM.LmResp{Array{Float64,1}},GLM.DensePredChol{Float64,Cholesky{Float64,Array{Float64,2}}}},Array{Float64,2}}\n",
       "\n",
       "SP500 ~ 1 + lNew_cases_CH + lNew_deaths_CH + lNew_cases_US + lNew_deaths_US + lCOMEX_Gold + lUS_Tbill_10yr + lCSI300 + lcproducts_ch + lhealthcare_ch + lSP500 + lDJI_Retail + lDJI_Pharma\n",
       "\n",
       "Coefficients:\n",
       "────────────────────────────────────────────────────────────────────────────────────\n",
       "                       Coef.  Std. Error      t  Pr(>|t|)     Lower 95%    Upper 95%\n",
       "────────────────────────────────────────────────────────────────────────────────────\n",
       "(Intercept)      1.17355      0.537765     2.18    0.0305   0.112038      2.23506\n",
       "lNew_cases_CH    0.00486975   0.00275245   1.77    0.0786  -0.000563391   0.0103029\n",
       "lNew_deaths_CH  -0.00884      0.00443726  -1.99    0.0479  -0.0175989    -8.11528e-5\n",
       "lNew_cases_US   -0.00779634   0.00262079  -2.97    0.0034  -0.0129696    -0.00262308\n",
       "lNew_deaths_US   0.0085251    0.00396524   2.15    0.0330   0.000697985   0.0163522\n",
       "lCOMEX_Gold      0.000726611  0.0958371    0.01    0.9940  -0.18845       0.189903\n",
       "lUS_Tbill_10yr   0.00667824   0.0217255    0.31    0.7589  -0.0362064     0.0495629\n",
       "lCSI300         -0.108742     0.119252    -0.91    0.3631  -0.344137      0.126653\n",
       "lcproducts_ch    0.00394328   0.104683     0.04    0.9700  -0.202695      0.210581\n",
       "lhealthcare_ch   0.0599587    0.0790274    0.76    0.4491  -0.0960361     0.215953\n",
       "lSP500           0.809185     0.128227     6.31    <1e-8    0.556073      1.0623\n",
       "lDJI_Retail      0.186571     0.103114     1.81    0.0722  -0.0169695     0.390111\n",
       "lDJI_Pharma     -0.103028     0.101184    -1.02    0.3100  -0.302758      0.0967022\n",
       "────────────────────────────────────────────────────────────────────────────────────"
      ]
     },
     "execution_count": 224,
     "metadata": {},
     "output_type": "execute_result"
    }
   ],
   "source": [
    "linearRegressor = lm(@formula(SP500 ~ lNew_cases_CH + lNew_deaths_CH + lNew_cases_US + lNew_deaths_US +\n",
    "       lCOMEX_Gold + lUS_Tbill_10yr + lCSI300 + lcproducts_ch + lhealthcare_ch + lSP500 + lDJI_Retail + \n",
    "        lDJI_Pharma), train)"
   ]
  },
  {
   "cell_type": "markdown",
   "metadata": {},
   "source": [
    "### DJI_Retail"
   ]
  },
  {
   "cell_type": "code",
   "execution_count": 225,
   "metadata": {},
   "outputs": [
    {
     "data": {
      "text/plain": [
       "StatsModels.TableRegressionModel{LinearModel{GLM.LmResp{Array{Float64,1}},GLM.DensePredChol{Float64,Cholesky{Float64,Array{Float64,2}}}},Array{Float64,2}}\n",
       "\n",
       "DJI_Retail ~ 1 + lNew_cases_CH + lNew_deaths_CH + lNew_cases_US + lNew_deaths_US + lCOMEX_Gold + lUS_Tbill_10yr + lCSI300 + lcproducts_ch + lhealthcare_ch + lSP500 + lDJI_Retail + lDJI_Pharma\n",
       "\n",
       "Coefficients:\n",
       "───────────────────────────────────────────────────────────────────────────────────\n",
       "                      Coef.  Std. Error      t  Pr(>|t|)     Lower 95%    Upper 95%\n",
       "───────────────────────────────────────────────────────────────────────────────────\n",
       "(Intercept)      0.513736    0.485562     1.06    0.2915  -0.444732     1.4722\n",
       "lNew_cases_CH    0.00444932  0.00248526   1.79    0.0752  -0.000456408  0.00935505\n",
       "lNew_deaths_CH  -0.00738011  0.00400652  -1.84    0.0672  -0.0152887    0.000528492\n",
       "lNew_cases_US   -0.00410385  0.00236638  -1.73    0.0847  -0.00877493   0.000567217\n",
       "lNew_deaths_US   0.00553195  0.00358032   1.55    0.1242  -0.00153535   0.0125993\n",
       "lCOMEX_Gold      0.00787891  0.0865339    0.09    0.9276  -0.162933     0.178691\n",
       "lUS_Tbill_10yr   0.0145349   0.0196165    0.74    0.4597  -0.0241867    0.0532566\n",
       "lCSI300         -0.110164    0.107676    -1.02    0.3077  -0.322709     0.102381\n",
       "lcproducts_ch    0.0526241   0.0945213    0.56    0.5784  -0.133955     0.239203\n",
       "lhealthcare_ch   0.0625747   0.0713559    0.88    0.3818  -0.0782771    0.203427\n",
       "lSP500          -0.0932962   0.11578     -0.81    0.4215  -0.321837     0.135245\n",
       "lDJI_Retail      1.01742     0.0931043   10.93    <1e-20   0.833641     1.2012\n",
       "lDJI_Pharma     -0.0194249   0.0913615   -0.21    0.8319  -0.199766     0.160917\n",
       "───────────────────────────────────────────────────────────────────────────────────"
      ]
     },
     "execution_count": 225,
     "metadata": {},
     "output_type": "execute_result"
    }
   ],
   "source": [
    "linearRegressor = lm(@formula(DJI_Retail ~ lNew_cases_CH + lNew_deaths_CH + lNew_cases_US + lNew_deaths_US +\n",
    "       lCOMEX_Gold + lUS_Tbill_10yr + lCSI300 + lcproducts_ch + lhealthcare_ch + lSP500 + lDJI_Retail + \n",
    "        lDJI_Pharma), train)"
   ]
  },
  {
   "cell_type": "markdown",
   "metadata": {},
   "source": [
    "### DJI_Pharma"
   ]
  },
  {
   "cell_type": "code",
   "execution_count": 226,
   "metadata": {},
   "outputs": [
    {
     "data": {
      "text/plain": [
       "StatsModels.TableRegressionModel{LinearModel{GLM.LmResp{Array{Float64,1}},GLM.DensePredChol{Float64,Cholesky{Float64,Array{Float64,2}}}},Array{Float64,2}}\n",
       "\n",
       "DJI_Pharma ~ 1 + lNew_cases_CH + lNew_deaths_CH + lNew_cases_US + lNew_deaths_US + lCOMEX_Gold + lUS_Tbill_10yr + lCSI300 + lcproducts_ch + lhealthcare_ch + lSP500 + lDJI_Retail + lDJI_Pharma\n",
       "\n",
       "Coefficients:\n",
       "───────────────────────────────────────────────────────────────────────────────────\n",
       "                      Coef.  Std. Error      t  Pr(>|t|)    Lower 95%     Upper 95%\n",
       "───────────────────────────────────────────────────────────────────────────────────\n",
       "(Intercept)      1.27528     0.426521     2.99    0.0032   0.433358     2.11721\n",
       "lNew_cases_CH    0.00315907  0.00218306   1.45    0.1497  -0.00115015   0.0074683\n",
       "lNew_deaths_CH  -0.00601118  0.00351935  -1.71    0.0894  -0.0129581    0.000935779\n",
       "lNew_cases_US   -0.00735864  0.00207864  -3.54    0.0005  -0.0114617   -0.00325555\n",
       "lNew_deaths_US   0.00902154  0.00314497   2.87    0.0046   0.00281357   0.0152295\n",
       "lCOMEX_Gold     -0.0503907   0.0760118   -0.66    0.5083  -0.200433     0.0996517\n",
       "lUS_Tbill_10yr  -0.019083    0.0172312   -1.11    0.2696  -0.0530963    0.0149303\n",
       "lCSI300         -0.0717094   0.094583    -0.76    0.4494  -0.25841      0.114991\n",
       "lcproducts_ch   -0.0186588   0.0830281   -0.22    0.8225  -0.182551     0.145233\n",
       "lhealthcare_ch   0.0681563   0.0626794    1.09    0.2784  -0.0555687    0.191881\n",
       "lSP500          -0.00599493  0.101701    -0.06    0.9531  -0.206747     0.194757\n",
       "lDJI_Retail      0.108509    0.0817834    1.33    0.1864  -0.0529264    0.269944\n",
       "lDJI_Pharma      0.777293    0.0802524    9.69    <1e-17   0.61888      0.935706\n",
       "───────────────────────────────────────────────────────────────────────────────────"
      ]
     },
     "execution_count": 226,
     "metadata": {},
     "output_type": "execute_result"
    }
   ],
   "source": [
    "linearRegressor = lm(@formula(DJI_Pharma ~ lNew_cases_CH + lNew_deaths_CH + lNew_cases_US + lNew_deaths_US +\n",
    "       lCOMEX_Gold + lUS_Tbill_10yr + lCSI300 + lcproducts_ch + lhealthcare_ch + lSP500 + lDJI_Retail + \n",
    "        lDJI_Pharma), train)"
   ]
  },
  {
   "cell_type": "markdown",
   "metadata": {},
   "source": [
    "Other method"
   ]
  },
  {
   "cell_type": "code",
   "execution_count": 10,
   "metadata": {},
   "outputs": [
    {
     "data": {
      "text/plain": [
       "184"
      ]
     },
     "execution_count": 10,
     "metadata": {},
     "output_type": "execute_result"
    }
   ],
   "source": [
    "y = convert(Matrix,train[:,2:7])\n",
    "x = convert(Matrix,train[:, 8:19]) \n",
    "Xoffset = [x ones(length(y[:,1]))];\n",
    "n=length(y[:,1])"
   ]
  },
  {
   "cell_type": "code",
   "execution_count": 17,
   "metadata": {},
   "outputs": [],
   "source": [
    "y_test = convert(Matrix,test[:,2:7])\n",
    "x_test = convert(Matrix,test[:, 8:19]) \n",
    "X_test = [x_test ones(length(y_test[:,1]))];"
   ]
  },
  {
   "cell_type": "code",
   "execution_count": 11,
   "metadata": {},
   "outputs": [
    {
     "name": "stdout",
     "output_type": "stream",
     "text": [
      "CSI300\n",
      "lNew_cases_CH: 0.00493633184282528\n",
      "lNew_deaths_CH: -0.00045845746340704554\n",
      "lNew_cases_US: 0.001975292035001388\n",
      "lNew_deaths_US: -0.001624295536875379\n",
      "lCOMEX_Gold: 0.006366723053999121\n",
      "lUS_Tbill_10yr: -0.02555230818437543\n",
      "lCSI300: 0.9605182695349588\n",
      "lcproducts_ch: -0.060922386658931175\n",
      "lhealthcare_ch: -0.10033943112446732\n",
      "lSP500: -0.0184601301881535\n",
      "lDJI_Retail: 0.19957578054827285\n",
      "lDJI_Pharma: -0.0630470773331369\n",
      "intercept: 0.8988365456244732\n",
      "cproducts_ch\n",
      "lNew_cases_CH: 0.005091351775637317\n",
      "lNew_deaths_CH: -0.0009268851463237767\n",
      "lNew_cases_US: 0.0020075638935008614\n",
      "lNew_deaths_US: -0.0008719712480633782\n",
      "lCOMEX_Gold: 0.03914436404435177\n",
      "lUS_Tbill_10yr: -0.030724094092620557\n",
      "lCSI300: 0.14830237543576816\n",
      "lcproducts_ch: 0.7341210908732063\n",
      "lhealthcare_ch: -0.10560579865050679\n",
      "lSP500: -0.13423878435370806\n",
      "lDJI_Retail: 0.3677910473822696\n",
      "lDJI_Pharma: -0.10370774989844173\n",
      "intercept: 1.117783673604384\n",
      "healthcare_ch\n",
      "lNew_cases_CH: 0.005960820170450361\n",
      "lNew_deaths_CH: -0.004974048963389459\n",
      "lNew_cases_US: 0.002400576312745007\n",
      "lNew_deaths_US: -0.0003348841821885501\n",
      "lCOMEX_Gold: 0.0023103469909266454\n",
      "lUS_Tbill_10yr: -0.030600716255212487\n",
      "lCSI300: 0.20166317793630933\n",
      "lcproducts_ch: -0.18983161054737743\n",
      "lhealthcare_ch: 0.8004297497567726\n",
      "lSP500: -0.09079434098663075\n",
      "lDJI_Retail: 0.2959616189321196\n",
      "lDJI_Pharma: -0.05589756766669718\n",
      "intercept: 0.9445884707396563\n",
      "SP500\n",
      "lNew_cases_CH: 0.004869754259001591\n",
      "lNew_deaths_CH: -0.008840004573532118\n",
      "lNew_cases_US: -0.007796340675068193\n",
      "lNew_deaths_US: 0.008525099474796877\n",
      "lCOMEX_Gold: 0.0007266114152618296\n",
      "lUS_Tbill_10yr: 0.00667823865611978\n",
      "lCSI300: -0.10874203378025693\n",
      "lcproducts_ch: 0.003943278741595139\n",
      "lhealthcare_ch: 0.05995866650676982\n",
      "lSP500: 0.8091845575047161\n",
      "lDJI_Retail: 0.1865707298952041\n",
      "lDJI_Pharma: -0.10302780362883371\n",
      "intercept: 1.1735512981338458\n",
      "DJI_Retail\n",
      "lNew_cases_CH: 0.004449323257177295\n",
      "lNew_deaths_CH: -0.007380107155818775\n",
      "lNew_cases_US: -0.004103854014693628\n",
      "lNew_deaths_US: 0.005531953891118901\n",
      "lCOMEX_Gold: 0.00787890856772354\n",
      "lUS_Tbill_10yr: 0.014534913267162752\n",
      "lCSI300: -0.110163746215647\n",
      "lcproducts_ch: 0.05262405678708582\n",
      "lhealthcare_ch: 0.0625747110240732\n",
      "lSP500: -0.09329615889795786\n",
      "lDJI_Retail: 1.0174226470631094\n",
      "lDJI_Pharma: -0.01942494906834341\n",
      "intercept: 0.5137360610214742\n",
      "DJI_Pharma\n",
      "lNew_cases_CH: 0.003159073402839489\n",
      "lNew_deaths_CH: -0.0060111786790284566\n",
      "lNew_cases_US: -0.007358643913227926\n",
      "lNew_deaths_US: 0.00902153756596206\n",
      "lCOMEX_Gold: -0.05039067957537895\n",
      "lUS_Tbill_10yr: -0.01908301982737327\n",
      "lCSI300: -0.07170943742681801\n",
      "lcproducts_ch: -0.018658800485932336\n",
      "lhealthcare_ch: 0.0681563086188593\n",
      "lSP500: -0.005994928173454392\n",
      "lDJI_Retail: 0.10850860085376773\n",
      "lDJI_Pharma: 0.7772931277606357\n",
      "intercept: 1.2752820262070612\n"
     ]
    }
   ],
   "source": [
    "for i in 1:6\n",
    "    d = zip(push!(names(train)[8:19], \"intercept\"), Xoffset \\ y[:,i])\n",
    "    println(feature_names[i+1])\n",
    "    for (n,v) in d\n",
    "        println(\"$n: $v\")\n",
    "    end\n",
    "end"
   ]
  },
  {
   "cell_type": "markdown",
   "metadata": {},
   "source": [
    "# Linear Regression"
   ]
  },
  {
   "cell_type": "markdown",
   "metadata": {},
   "source": [
    "### Quadratic loss + Regularization l1"
   ]
  },
  {
   "cell_type": "code",
   "execution_count": 14,
   "metadata": {},
   "outputs": [
    {
     "name": "stdout",
     "output_type": "stream",
     "text": [
      "MSE: 0.007650068886608143\n",
      "MAE: 0.06992341555107107\n",
      "R^2: -1.0670355949223436\n"
     ]
    }
   ],
   "source": [
    "w = proxgrad(1/n*QuadLoss(), OneReg(), Xoffset, y[:,6], maxiters=1000)\n",
    "pred=Xoffset*w\n",
    "MSE(y[:,6], pred)\n",
    "MAE(y[:,6], pred)\n",
    "R2(y[:,6], pred)"
   ]
  },
  {
   "cell_type": "code",
   "execution_count": 214,
   "metadata": {},
   "outputs": [
    {
     "data": {
      "text/plain": [
       "0.01297576228724476"
      ]
     },
     "execution_count": 214,
     "metadata": {},
     "output_type": "execute_result"
    }
   ],
   "source": [
    "norm(Xoffset*w-y[:,6]) / norm(y[:,6])"
   ]
  },
  {
   "cell_type": "markdown",
   "metadata": {},
   "source": [
    "train data"
   ]
  },
  {
   "cell_type": "code",
   "execution_count": 12,
   "metadata": {},
   "outputs": [
    {
     "name": "stdout",
     "output_type": "stream",
     "text": [
      "CSI300\n",
      "MSE: 0.005667526243034605\n",
      "MAE: 0.06542354217946376\n",
      "R^2: 0.3919798068403286\n",
      "cproducts_ch\n",
      "MSE: 0.004179232541542969\n",
      "MAE: 0.058982864818302935\n",
      "R^2: 0.8575080059112373\n",
      "healthcare_ch\n",
      "MSE: 0.004631914883201847\n",
      "MAE: 0.060482665804487905\n",
      "R^2: 0.7870074545848057\n",
      "SP500\n",
      "MSE: 0.008344851467279452\n",
      "MAE: 0.06547733314954242\n",
      "R^2: 0.14823019443573393\n",
      "DJI_Retail\n",
      "MSE: 0.00620750251877586\n",
      "MAE: 0.07015449880685415\n",
      "R^2: 0.7097543521209764\n",
      "DJI_Pharma\n",
      "MSE: 0.007650068886608143\n",
      "MAE: 0.06992341555107107\n",
      "R^2: -1.0670355949223436\n"
     ]
    }
   ],
   "source": [
    "for i=1:6\n",
    "    w = proxgrad(1/n*QuadLoss(), OneReg(), Xoffset, y[:,i], maxiters=1000)\n",
    "    println(feature_names[i+1])\n",
    "    pred=Xoffset*w\n",
    "    MSE(y[:,i], pred)\n",
    "    MAE(y[:,i], pred)\n",
    "    R2(y[:,i], pred)\n",
    "end"
   ]
  },
  {
   "cell_type": "markdown",
   "metadata": {},
   "source": [
    "test data"
   ]
  },
  {
   "cell_type": "code",
   "execution_count": 18,
   "metadata": {},
   "outputs": [
    {
     "name": "stdout",
     "output_type": "stream",
     "text": [
      "CSI300\n",
      "MSE: 0.006582649504367546\n",
      "MAE: 0.07957962568008664\n",
      "R^2: -41.45604941138694\n",
      "cproducts_ch\n",
      "MSE: 0.007436762097439379\n",
      "MAE: 0.08544296886559366\n",
      "R^2: -23.916915959341438\n",
      "healthcare_ch\n",
      "MSE: 0.002301121952339202\n",
      "MAE: 0.044154806181955435\n",
      "R^2: -3.9006641908532664\n",
      "SP500\n",
      "MSE: 0.0069209723368631034\n",
      "MAE: 0.08183668185620233\n",
      "R^2: -28.256755151186805\n",
      "DJI_Retail\n",
      "MSE: 0.0058238115797679645\n",
      "MAE: 0.07468425686224671\n",
      "R^2: -41.33393731033429\n",
      "DJI_Pharma\n",
      "MSE: 0.00025985858204634457\n",
      "MAE: 0.014151029843138613\n",
      "R^2: 0.24224609467603708\n"
     ]
    }
   ],
   "source": [
    "for i=1:6\n",
    "    w = proxgrad(1/n*QuadLoss(), OneReg(), Xoffset, y[:,i], maxiters=1000)\n",
    "    println(feature_names[i+1])\n",
    "    pred=X_test*w\n",
    "    MSE(y_test[:,i], pred)\n",
    "    MAE(y_test[:,i], pred)\n",
    "    R2(y_test[:,i], pred)\n",
    "end"
   ]
  },
  {
   "cell_type": "markdown",
   "metadata": {},
   "source": [
    "### Quadratic Loss + Regularization l2"
   ]
  },
  {
   "cell_type": "code",
   "execution_count": 187,
   "metadata": {},
   "outputs": [
    {
     "name": "stdout",
     "output_type": "stream",
     "text": [
      "CSI300\n",
      "MSE: 0.0068421488960382975\n",
      "MAE: 0.053204358545851045\n",
      "R^2: 0.2659646351864212\n",
      "cproducts_ch\n",
      "MSE: 0.00935891366638902\n",
      "MAE: 0.06554823286690946\n",
      "R^2: 0.6809054634858889\n",
      "healthcare_ch\n",
      "MSE: 0.007562720506639701\n",
      "MAE: 0.0567373750705872\n",
      "R^2: 0.6522381927149323\n",
      "SP500\n",
      "MSE: 0.007197382397849989\n",
      "MAE: 0.06253055870778575\n",
      "R^2: 0.26535384966091\n",
      "DJI_Retail\n",
      "MSE: 0.006361825095284962\n",
      "MAE: 0.061600857475284564\n",
      "R^2: 0.702538655298339\n",
      "DJI_Pharma\n",
      "MSE: 0.006310153344743638\n",
      "MAE: 0.06473200953953587\n",
      "R^2: -0.7049926956653159\n"
     ]
    }
   ],
   "source": [
    "### train\n",
    "for i=1:6\n",
    "    w = proxgrad(1/n*QuadLoss(), QuadReg(), Xoffset, y[:,i], maxiters=1000)\n",
    "    println(feature_names[i+1])\n",
    "    pred=Xoffset*w\n",
    "    MSE(y[:,i], pred)\n",
    "    MAE(y[:,i], pred)\n",
    "    R2(y[:,i], pred)\n",
    "end"
   ]
  },
  {
   "cell_type": "code",
   "execution_count": 19,
   "metadata": {},
   "outputs": [
    {
     "name": "stdout",
     "output_type": "stream",
     "text": [
      "CSI300\n",
      "MSE: 0.0014522541414534538\n",
      "MAE: 0.030550967702374282\n",
      "R^2: -8.366589174545926\n",
      "cproducts_ch\n",
      "MSE: 0.0021418142646555186\n",
      "MAE: 0.03807052042827408\n",
      "R^2: -6.176161524827541\n",
      "healthcare_ch\n",
      "MSE: 0.027324856155454127\n",
      "MAE: 0.1577910055878011\n",
      "R^2: -57.19332780043428\n",
      "SP500\n",
      "MSE: 0.0006746402120832916\n",
      "MAE: 0.020779353900865317\n",
      "R^2: -1.8518801317751907\n",
      "DJI_Retail\n",
      "MSE: 0.0016406149658663922\n",
      "MAE: 0.032277791662596596\n",
      "R^2: -10.925813561116497\n",
      "DJI_Pharma\n",
      "MSE: 0.0063416010352370196\n",
      "MAE: 0.07741394394281531\n",
      "R^2: -17.492261878040733\n"
     ]
    }
   ],
   "source": [
    "### test\n",
    "for i=1:6\n",
    "    w = proxgrad(1/n*QuadLoss(), QuadReg(), Xoffset, y[:,i], maxiters=1000)\n",
    "    println(feature_names[i+1])\n",
    "    pred=X_test*w\n",
    "    MSE(y_test[:,i], pred)\n",
    "    MAE(y_test[:,i], pred)\n",
    "    R2(y_test[:,i], pred)\n",
    "end"
   ]
  },
  {
   "cell_type": "markdown",
   "metadata": {},
   "source": [
    "### Quadratic Loss + No Regularization "
   ]
  },
  {
   "cell_type": "code",
   "execution_count": 13,
   "metadata": {},
   "outputs": [
    {
     "name": "stdout",
     "output_type": "stream",
     "text": [
      "CSI300\n",
      "MSE: 0.0011569649535950002\n",
      "MAE: 0.024419827400948738\n",
      "R^2: 0.8758791711942485\n",
      "cproducts_ch\n",
      "MSE: 0.0019103217555515987\n",
      "MAE: 0.03340718035112316\n",
      "R^2: 0.9348670949525113\n",
      "healthcare_ch\n",
      "MSE: 0.0015335517907313883\n",
      "MAE: 0.02753374594510531\n",
      "R^2: 0.9294816274326443\n",
      "SP500\n",
      "MSE: 0.001981914487315868\n",
      "MAE: 0.033007778963467634\n",
      "R^2: 0.7977034193927484\n",
      "DJI_Retail\n",
      "MSE: 0.0026843879141122224\n",
      "MAE: 0.038865976020081676\n",
      "R^2: 0.8744854461301499\n",
      "DJI_Pharma\n",
      "MSE: 0.002285220514352608\n",
      "MAE: 0.04209858280729578\n",
      "R^2: 0.3825373058166105\n"
     ]
    }
   ],
   "source": [
    "### train\n",
    "for i=1:6\n",
    "    w = proxgrad(1/n*QuadLoss(), ZeroReg(), Xoffset, y[:,i], maxiters=1000)\n",
    "    println(feature_names[i+1])\n",
    "    pred=Xoffset*w\n",
    "    MSE(y[:,i], pred)\n",
    "    MAE(y[:,i], pred)\n",
    "    R2(y[:,i], pred)\n",
    "end"
   ]
  },
  {
   "cell_type": "code",
   "execution_count": 20,
   "metadata": {},
   "outputs": [
    {
     "name": "stdout",
     "output_type": "stream",
     "text": [
      "CSI300\n",
      "MSE: 0.0008022951845129411\n",
      "MAE: 0.025021394031977295\n",
      "R^2: -4.1745553175205705\n",
      "cproducts_ch\n",
      "MSE: 0.0005894642232284546\n",
      "MAE: 0.021583936280108126\n",
      "R^2: -0.9750034112667287\n",
      "healthcare_ch\n",
      "MSE: 0.012876957631532291\n",
      "MAE: 0.11035110664109907\n",
      "R^2: -26.423859516804416\n",
      "SP500\n",
      "MSE: 0.002494453858641507\n",
      "MAE: 0.04821217212297012\n",
      "R^2: -9.544707047808453\n",
      "DJI_Retail\n",
      "MSE: 0.00039707062706034263\n",
      "MAE: 0.01749864816455741\n",
      "R^2: -1.8863507693388337\n",
      "DJI_Pharma\n",
      "MSE: 0.0012266968508388982\n",
      "MAE: 0.032249764564791804\n",
      "R^2: -2.5770776629805665\n"
     ]
    }
   ],
   "source": [
    "### test\n",
    "for i=1:6\n",
    "    w = proxgrad(1/n*QuadLoss(), ZeroReg(), Xoffset, y[:,i], maxiters=1000)\n",
    "    println(feature_names[i+1])\n",
    "    pred=X_test*w\n",
    "    MSE(y_test[:,i], pred)\n",
    "    MAE(y_test[:,i], pred)\n",
    "    R2(y_test[:,i], pred)\n",
    "end"
   ]
  },
  {
   "cell_type": "markdown",
   "metadata": {},
   "source": [
    "# Quantile Regression"
   ]
  },
  {
   "cell_type": "markdown",
   "metadata": {},
   "source": [
    "### CSI300"
   ]
  },
  {
   "cell_type": "code",
   "execution_count": 24,
   "metadata": {},
   "outputs": [
    {
     "name": "stdout",
     "output_type": "stream",
     "text": [
      "quantile=0.05\n",
      "MSE: 0.2705463147242684\n",
      "MAE: 0.33726269183110813\n",
      "R^2: -28.024589474015162\n",
      "MSE: 0.004259385146297676\n",
      "MAE: 0.05051834800535413\n",
      "R^2: -26.471714256297222\n",
      "quantile=0.1\n",
      "MSE: 0.004543265141010645\n",
      "MAE: 0.04657354357904378\n",
      "R^2: 0.5125921204144608\n",
      "MSE: 0.0012460972130605961\n",
      "MAE: 0.032229168422056614\n",
      "R^2: -7.036940872211185\n",
      "quantile=0.15\n",
      "MSE: 0.00480036514946673\n",
      "MAE: 0.04692442910343132\n",
      "R^2: 0.4850100696043844\n",
      "MSE: 0.0009116860064566204\n",
      "MAE: 0.026454477472517415\n",
      "R^2: -4.88009222002641\n",
      "quantile=0.2\n",
      "MSE: 0.01759545261374147\n",
      "MAE: 0.08690684818953041\n",
      "R^2: -0.8876649243728274\n",
      "MSE: 0.0011051509169202698\n",
      "MAE: 0.025738881991843366\n",
      "R^2: -6.127880939836644\n",
      "quantile=0.25\n",
      "MSE: 0.007089793014357634\n",
      "MAE: 0.05473799874823503\n",
      "R^2: 0.2393970255806548\n",
      "MSE: 0.0006267674199933139\n",
      "MAE: 0.020757052144404584\n",
      "R^2: -3.0424556305220314\n",
      "quantile=0.3\n",
      "MSE: 0.0070740127089910084\n",
      "MAE: 0.05376555322200422\n",
      "R^2: 0.24108995895329266\n",
      "MSE: 0.0006790123121542188\n",
      "MAE: 0.020543936141977828\n",
      "R^2: -3.37941899483366\n",
      "quantile=0.35000000000000003\n",
      "MSE: 0.006987452388439269\n",
      "MAE: 0.05271940880307165\n",
      "R^2: 0.250376271987399\n",
      "MSE: 0.0008711566092926834\n",
      "MAE: 0.022553283888359657\n",
      "R^2: -4.618690167940217\n",
      "quantile=0.4\n",
      "MSE: 0.004143173055544084\n",
      "MAE: 0.03932528860678518\n",
      "R^2: 0.5555145625268385\n",
      "MSE: 0.00036310175395342915\n",
      "MAE: 0.015519872953925274\n",
      "R^2: -1.3418937916988778\n",
      "quantile=0.45\n",
      "MSE: 0.005091423786096511\n",
      "MAE: 0.046228498244719377\n",
      "R^2: 0.4537848893624886\n",
      "MSE: 0.0007939488492977252\n",
      "MAE: 0.021754063086050542\n",
      "R^2: -4.120724041821311\n",
      "quantile=0.5\n",
      "MSE: 0.007200110954256641\n",
      "MAE: 0.0567059144438153\n",
      "R^2: 0.2275619617009229\n",
      "MSE: 0.0020185897976532094\n",
      "MAE: 0.03648737325640523\n",
      "R^2: -12.01927865574856\n",
      "quantile=0.55\n",
      "MSE: 0.005605488018636522\n",
      "MAE: 0.05012761965659259\n",
      "R^2: 0.39863535488091584\n",
      "MSE: 0.0011837217308056922\n",
      "MAE: 0.02753912028005654\n",
      "R^2: -6.634638341153407\n",
      "quantile=0.6000000000000001\n",
      "MSE: 0.0031553330810290287\n",
      "MAE: 0.03622749783851704\n",
      "R^2: 0.661491425510695\n",
      "MSE: 0.00034789382337435345\n",
      "MAE: 0.015323572068536575\n",
      "R^2: -1.2438073522368067\n",
      "quantile=0.65\n",
      "MSE: 0.004221993500893533\n",
      "MAE: 0.0409761661795401\n",
      "R^2: 0.5470585941993513\n",
      "MSE: 0.0004115674412764772\n",
      "MAE: 0.01629356322568491\n",
      "R^2: -1.6544824559409759\n",
      "quantile=0.7\n",
      "MSE: 0.007585285249767957\n",
      "MAE: 0.056645350493305525\n",
      "R^2: 0.18623992109374354\n",
      "MSE: 0.0015085739830000618\n",
      "MAE: 0.03199579071162795\n",
      "R^2: -8.72983469961266\n",
      "quantile=0.75\n",
      "MSE: 0.0074936293807146\n",
      "MAE: 0.0556646419219776\n",
      "R^2: 0.1960728917437745\n",
      "MSE: 0.0011256449119772791\n",
      "MAE: 0.0275181485921607\n",
      "R^2: -6.26006085708726\n",
      "quantile=0.7999999999999999\n",
      "MSE: 0.0090488202149546\n",
      "MAE: 0.06168682308553606\n",
      "R^2: 0.029229829905837224\n",
      "MSE: 0.001569063027896212\n",
      "MAE: 0.03287874967394405\n",
      "R^2: -9.119970294292981\n",
      "quantile=0.85\n",
      "MSE: 0.016299470009774792\n",
      "MAE: 0.0841547674992701\n",
      "R^2: -0.748630086349126\n",
      "MSE: 0.0038413138071831682\n",
      "MAE: 0.05300978313050641\n",
      "R^2: -23.77528367478844\n",
      "quantile=0.9\n",
      "MSE: 0.01817222921992981\n",
      "MAE: 0.09058138940027771\n",
      "R^2: -0.9495423305755097\n",
      "MSE: 0.004502981336750489\n",
      "MAE: 0.0584561728602206\n",
      "R^2: -28.04283419689687\n"
     ]
    }
   ],
   "source": [
    "###train\n",
    "w_quantile= Array{Float64}(undef, 18, 13)\n",
    "a = LinRange(0.05,0.90,18)\n",
    "row=0\n",
    "for i in a\n",
    "    w = proxgrad(QuantileLoss(quantile=i), ZeroReg(),Xoffset,y[:,1],maxiters=1000)\n",
    "    row=row+1\n",
    "    w_quantile[row,:] = w\n",
    "    pred=Xoffset*w\n",
    "    test_pred=X_test*w\n",
    "    println(\"quantile=\", i)\n",
    "    MSE(y[:,1], pred)\n",
    "    MAE(y[:,1], pred)\n",
    "    R2(y[:,1], pred)\n",
    "    MSE(y_test[:,1], test_pred)\n",
    "    MAE(y_test[:,1], test_pred)\n",
    "    R2(y_test[:,1], test_pred)\n",
    "end"
   ]
  },
  {
   "cell_type": "code",
   "execution_count": 239,
   "metadata": {},
   "outputs": [
    {
     "data": {
      "text/plain": [
       "18×13 Array{Float64,2}:\n",
       " 0.0497146  0.0347075  0.108417    …  0.0980421  0.0896089  0.013332\n",
       " 0.0105     0.044434   0.0170099      0.123293   0.114335   0.0173475\n",
       " 0.020907   0.0508859  0.0178926      0.121802   0.113196   0.0171421\n",
       " 0.0423605  0.0522091  0.0366613      0.115903   0.107564   0.0162073\n",
       " 0.0361536  0.0543228  0.0235474      0.119179   0.110885   0.0167446\n",
       " 0.0377663  0.0551088  0.023741    …  0.118761   0.110866   0.0167442\n",
       " 0.0399865  0.0555937  0.024191       0.118636   0.110549   0.0166546\n",
       " 0.0248298  0.0536748  0.0183918      0.120769   0.112818   0.0170446\n",
       " 0.0375499  0.0559373  0.0186903      0.119613   0.111771   0.0168286\n",
       " 0.0517984  0.0585594  0.0216904      0.117829   0.110098   0.0165458\n",
       " 0.0453001  0.0579448  0.0158882   …  0.119197   0.111785   0.0168309\n",
       " 0.0257797  0.0546463  0.00869801     0.1216     0.114838   0.0173684\n",
       " 0.0309302  0.0558448  0.0058187      0.121653   0.115028   0.0173784\n",
       " 0.0481008  0.0584372  0.00781377     0.120171   0.1135     0.0171003\n",
       " 0.043461   0.056695   0.00532912     0.121      0.114431   0.0172491\n",
       " 0.0471886  0.0576026  0.00488808  …  0.120836   0.114218   0.0172101\n",
       " 0.063277   0.060259   0.00357087     0.120282   0.113184   0.0170323\n",
       " 0.0647217  0.0589754  0.00284821     0.120283   0.113094   0.0170632"
      ]
     },
     "execution_count": 239,
     "metadata": {},
     "output_type": "execute_result"
    }
   ],
   "source": [
    "w_quantile"
   ]
  },
  {
   "cell_type": "code",
   "execution_count": 240,
   "metadata": {},
   "outputs": [
    {
     "data": {
      "image/png": "[encoded data removed]"
     },
     "execution_count": 240,
     "metadata": {},
     "output_type": "execute_result"
    }
   ],
   "source": [
    "plot(a,w_quantile[:,13],markershape=:circle,legend=:topleft,label=\"intercept\")\n",
    "xlabel!(\"quantiles\")\n",
    "ylabel!(\"Intercept\")\n",
    "title!(\"coefficients vs quantile\")"
   ]
  },
  {
   "cell_type": "code",
   "execution_count": 241,
   "metadata": {},
   "outputs": [
    {
     "data": {
      "image/png": "[encoded data removed]"
     },
     "execution_count": 241,
     "metadata": {},
     "output_type": "execute_result"
    }
   ],
   "source": [
    "plot(a,w_quantile[:,1],markershape=:circle,legend=:topleft,label=\"Lagged new cases in China\")\n",
    "plot!(a,w_quantile[:,2],markershape=:circle,legend=:topleft,label=\"Lagged new deaths in China\")\n",
    "plot!(a,w_quantile[:,3],markershape=:circle,legend=:topleft,label=\"Lagged new cases in US\")\n",
    "plot!(a,w_quantile[:,4],markershape=:circle,legend=:topleft,label=\"Lagged new deaths in US\")\n",
    "plot!(a,w_quantile[:,5],markershape=:circle,legend=:topleft,label=\"Lagged gold price\")\n",
    "plot!(a,w_quantile[:,6],markershape=:circle,legend=:topleft,label=\"Lagged 10 year treasury bill\")\n",
    "plot!(a,w_quantile[:,7],markershape=:circle,legend=:topleft,label=\"Lagged CSI300\")\n",
    "plot!(a,w_quantile[:,8],markershape=:circle,legend=:topleft,label=\"Lagged consumer products in China\")\n",
    "plot!(a,w_quantile[:,9],markershape=:circle,legend=:topleft,label=\"Lagged Heathcare in China\")\n",
    "plot!(a,w_quantile[:,10],markershape=:circle,legend=:topleft,label=\"Lagged SP500\")\n",
    "plot!(a,w_quantile[:,11],markershape=:circle,legend=:topleft,label=\"Lagged consumer products in US\")\n",
    "plot!(a,w_quantile[:,12],markershape=:circle,legend=:topleft,label=\"Lagged healthcare in US\")\n",
    "xlabel!(\"quantiles\")\n",
    "ylabel!(\"values\")\n",
    "title!(\"coefficients vs quantile\")"
   ]
  },
  {
   "cell_type": "markdown",
   "metadata": {},
   "source": [
    "### cproducts_ch"
   ]
  },
  {
   "cell_type": "code",
   "execution_count": 25,
   "metadata": {},
   "outputs": [
    {
     "name": "stdout",
     "output_type": "stream",
     "text": [
      "quantile=0.05\n",
      "MSE: 0.17393242190545796\n",
      "MAE: 0.28109828852379704\n",
      "R^2: -4.9302700645718245\n",
      "MSE: 0.0029903571549112777\n",
      "MAE: 0.04448523369244252\n",
      "R^2: -9.019209562047854\n",
      "quantile=0.1\n",
      "MSE: 0.020126372724195686\n",
      "MAE: 0.10293353713386243\n",
      "R^2: 0.3137862143977469\n",
      "MSE: 0.0013248090426103754\n",
      "MAE: 0.028790883135207772\n",
      "R^2: -3.4387806338815583\n",
      "quantile=0.15\n",
      "MSE: 0.012818085991450599\n",
      "MAE: 0.08076073771537712\n",
      "R^2: 0.5629641052113608\n",
      "MSE: 0.0011267891985504788\n",
      "MAE: 0.026338650983655322\n",
      "R^2: -2.775313960069144\n",
      "quantile=0.2\n",
      "MSE: 0.009176560168951327\n",
      "MAE: 0.06656579216429029\n",
      "R^2: 0.6871228522577908\n",
      "MSE: 0.0010869316742854577\n",
      "MAE: 0.025821175918002096\n",
      "R^2: -2.641771086242254\n",
      "quantile=0.25\n",
      "MSE: 0.008735886591523984\n",
      "MAE: 0.06354510555948666\n",
      "R^2: 0.7021477297121256\n",
      "MSE: 0.0008982167843906462\n",
      "MAE: 0.023536536513031493\n",
      "R^2: -2.0094807171037217\n",
      "quantile=0.3\n",
      "MSE: 0.007250316860915827\n",
      "MAE: 0.055762396047035506\n",
      "R^2: 0.7527986066777106\n",
      "MSE: 0.000579980907225045\n",
      "MAE: 0.01896495889278396\n",
      "R^2: -0.9432295041850167\n",
      "quantile=0.35000000000000003\n",
      "MSE: 0.00889622040706276\n",
      "MAE: 0.06146062548240527\n",
      "R^2: 0.6966811075826125\n",
      "MSE: 0.0008634747720099642\n",
      "MAE: 0.02539252180182139\n",
      "R^2: -1.8930773964911238\n",
      "quantile=0.4\n",
      "MSE: 0.005612888278851527\n",
      "MAE: 0.04874352381336797\n",
      "R^2: 0.8086271497216772\n",
      "MSE: 0.0003856115029101898\n",
      "MAE: 0.015951576739844982\n",
      "R^2: -0.29199365060727867\n",
      "quantile=0.45\n",
      "MSE: 0.005439179690742714\n",
      "MAE: 0.049272781154660404\n",
      "R^2: 0.814549788116149\n",
      "MSE: 0.00047244595948212466\n",
      "MAE: 0.018760276792143857\n",
      "R^2: -0.5829330175560976\n",
      "quantile=0.5\n",
      "MSE: 0.005475630675073004\n",
      "MAE: 0.05079310866960278\n",
      "R^2: 0.8133069825550582\n",
      "MSE: 0.0007970253231912637\n",
      "MAE: 0.023807113928779298\n",
      "R^2: -1.6704381201412435\n",
      "quantile=0.55\n",
      "MSE: 0.006603462112724349\n",
      "MAE: 0.05622036095889197\n",
      "R^2: 0.774853283472881\n",
      "MSE: 0.0015235505660893087\n",
      "MAE: 0.03251774404541956\n",
      "R^2: -4.104665298910865\n",
      "quantile=0.6000000000000001\n",
      "MSE: 0.006331228508673897\n",
      "MAE: 0.05510762707768343\n",
      "R^2: 0.7841351572890716\n",
      "MSE: 0.0014605953204615927\n",
      "MAE: 0.03203618392682967\n",
      "R^2: -3.8937333712853173\n",
      "quantile=0.65\n",
      "MSE: 0.007341417309930607\n",
      "MAE: 0.058875959989844545\n",
      "R^2: 0.7496925137495327\n",
      "MSE: 0.0016808920051429373\n",
      "MAE: 0.03460043416541565\n",
      "R^2: -4.631838733055141\n",
      "quantile=0.7\n",
      "MSE: 0.011268704203261586\n",
      "MAE: 0.07301127568926656\n",
      "R^2: 0.6157906704740718\n",
      "MSE: 0.004629373539883308\n",
      "MAE: 0.05891385518279404\n",
      "R^2: -14.5107437788535\n",
      "quantile=0.75\n",
      "MSE: 0.013774362711072234\n",
      "MAE: 0.07983077293080282\n",
      "R^2: 0.5303596077767099\n",
      "MSE: 0.005136608213508871\n",
      "MAE: 0.06238472631398666\n",
      "R^2: -16.21023659155809\n",
      "quantile=0.7999999999999999\n",
      "MSE: 0.02056308972613148\n",
      "MAE: 0.09732002447923403\n",
      "R^2: 0.2988962373888766\n",
      "MSE: 0.008864102736965323\n",
      "MAE: 0.08302423607003022\n",
      "R^2: -28.69922932293099\n",
      "quantile=0.85\n",
      "MSE: 0.025196844708493125\n",
      "MAE: 0.10498442137739185\n",
      "R^2: 0.14090718533395608\n",
      "MSE: 0.007169985750568129\n",
      "MAE: 0.07397771874262181\n",
      "R^2: -23.023080210955747\n",
      "quantile=0.9\n",
      "MSE: 0.031462819800841736\n",
      "MAE: 0.11969670624606957\n",
      "R^2: -0.07273282558767424\n",
      "MSE: 0.008573515027516031\n",
      "MAE: 0.08211023528245529\n",
      "R^2: -27.725613461579368\n"
     ]
    }
   ],
   "source": [
    "w_quantile= Array{Float64}(undef, 18, 13)\n",
    "a = LinRange(0.05,0.90,18)\n",
    "row=0\n",
    "for i in a\n",
    "    w = proxgrad(QuantileLoss(quantile=i), ZeroReg(),Xoffset,y[:,2],maxiters=1000)\n",
    "    row=row+1\n",
    "    w_quantile[row,:] = w\n",
    "    pred=Xoffset*w\n",
    "    test_pred=X_test*w\n",
    "    println(\"quantile=\", i)\n",
    "    MSE(y[:,2], pred)\n",
    "    MAE(y[:,2], pred)\n",
    "    R2(y[:,2], pred)\n",
    "    MSE(y_test[:,2], test_pred)\n",
    "    MAE(y_test[:,2], test_pred)\n",
    "    R2(y_test[:,2], test_pred)\n",
    "end"
   ]
  },
  {
   "cell_type": "code",
   "execution_count": 243,
   "metadata": {},
   "outputs": [
    {
     "data": {
      "text/plain": [
       "18×13 Array{Float64,2}:\n",
       " 0.0488319  0.0396187  0.106203   …  0.12425   0.112923  0.0168029\n",
       " 0.0314098  0.0521203  0.054231      0.139209  0.126574  0.018972\n",
       " 0.033687   0.0563233  0.0466832     0.140336  0.127602  0.0191271\n",
       " 0.0324349  0.0577897  0.040878      0.141756  0.128481  0.0191946\n",
       " 0.0310099  0.0586194  0.039882      0.142027  0.12837   0.019125\n",
       " 0.0262217  0.0583562  0.038991   …  0.142638  0.128824  0.0191917\n",
       " 0.0365311  0.0596425  0.0430408     0.140788  0.127474  0.0189863\n",
       " 0.0233978  0.0572526  0.0375687     0.143373  0.129221  0.0192416\n",
       " 0.027334   0.0571174  0.0377721     0.14295   0.129148  0.0192564\n",
       " 0.032503   0.0583575  0.0363363     0.142606  0.129182  0.0192957\n",
       " 0.0415022  0.0597779  0.0355641  …  0.141949  0.129019  0.0192858\n",
       " 0.0395479  0.058719   0.0349244     0.142468  0.12937   0.0193207\n",
       " 0.0412776  0.0591708  0.0320304     0.142985  0.129929  0.019414\n",
       " 0.0574139  0.0621997  0.033637      0.140726  0.128945  0.0192858\n",
       " 0.0604608  0.063102   0.0301762     0.140909  0.129382  0.0193911\n",
       " 0.0752793  0.0666666  0.028896   …  0.139448  0.12892   0.0193528\n",
       " 0.0734035  0.0661875  0.0214652     0.140957  0.130186  0.0195793\n",
       " 0.0756115  0.0645897  0.0167656     0.14131   0.130863  0.0197289"
      ]
     },
     "execution_count": 243,
     "metadata": {},
     "output_type": "execute_result"
    }
   ],
   "source": [
    "w_quantile"
   ]
  },
  {
   "cell_type": "markdown",
   "metadata": {},
   "source": [
    "### healthcare_ch"
   ]
  },
  {
   "cell_type": "code",
   "execution_count": 26,
   "metadata": {},
   "outputs": [
    {
     "name": "stdout",
     "output_type": "stream",
     "text": [
      "quantile=0.05\n",
      "MSE: 0.24183246177052223\n",
      "MAE: 0.30835391134046486\n",
      "R^2: -10.120349336151993\n",
      "MSE: 0.036491128674799214\n",
      "MAE: 0.17427993645301126\n",
      "R^2: -76.71459804579986\n",
      "quantile=0.1\n",
      "MSE: 0.07210511879677428\n",
      "MAE: 0.171791079386396\n",
      "R^2: -2.3156595441092587\n",
      "MSE: 0.02611403960366222\n",
      "MAE: 0.15054421226583106\n",
      "R^2: -54.61467032814037\n",
      "quantile=0.15\n",
      "MSE: 0.019987899069817638\n",
      "MAE: 0.09361721414449534\n",
      "R^2: 0.08088261383603412\n",
      "MSE: 0.019630650073247373\n",
      "MAE: 0.13132016028402105\n",
      "R^2: -40.80709490835078\n",
      "quantile=0.2\n",
      "MSE: 0.013951642078664462\n",
      "MAE: 0.07836001303875872\n",
      "R^2: 0.358451993616442\n",
      "MSE: 0.018783711950188936\n",
      "MAE: 0.1284215370730537\n",
      "R^2: -39.00338375461479\n",
      "quantile=0.25\n",
      "MSE: 0.007061701608330805\n",
      "MAE: 0.05358697173200373\n",
      "R^2: 0.6752768912106528\n",
      "MSE: 0.016846149461470734\n",
      "MAE: 0.1232296722241147\n",
      "R^2: -34.876986587202886\n",
      "quantile=0.3\n",
      "MSE: 0.006793207343643585\n",
      "MAE: 0.0520178804421359\n",
      "R^2: 0.6876232486691001\n",
      "MSE: 0.017767472454166974\n",
      "MAE: 0.126839305168615\n",
      "R^2: -36.83911405894614\n",
      "quantile=0.35000000000000003\n",
      "MSE: 0.006257348785291843\n",
      "MAE: 0.05000997914988956\n",
      "R^2: 0.7122640033469922\n",
      "MSE: 0.018700776655453864\n",
      "MAE: 0.13036207564368557\n",
      "R^2: -38.82675772718809\n",
      "quantile=0.4\n",
      "MSE: 0.004432336000331692\n",
      "MAE: 0.04183844121917166\n",
      "R^2: 0.7961848283806408\n",
      "MSE: 0.01688682403420706\n",
      "MAE: 0.12480516538886115\n",
      "R^2: -34.96361060201641\n",
      "quantile=0.45\n",
      "MSE: 0.0031795467741758243\n",
      "MAE: 0.035907821573917455\n",
      "R^2: 0.8537927017712714\n",
      "MSE: 0.015741874992897746\n",
      "MAE: 0.12135107218833711\n",
      "R^2: -32.5252301583409\n",
      "quantile=0.5\n",
      "MSE: 0.003925071949176145\n",
      "MAE: 0.040473573755221814\n",
      "R^2: 0.8195107020587333\n",
      "MSE: 0.018654573935247547\n",
      "MAE: 0.1316262832756729\n",
      "R^2: -38.72836050134574\n",
      "quantile=0.55\n",
      "MSE: 0.0032155883451673874\n",
      "MAE: 0.03681788076922771\n",
      "R^2: 0.8521353772867272\n",
      "MSE: 0.01765976414493379\n",
      "MAE: 0.12878273800579057\n",
      "R^2: -36.609729321827\n",
      "quantile=0.6000000000000001\n",
      "MSE: 0.0033246134850956604\n",
      "MAE: 0.03746508033950704\n",
      "R^2: 0.8471219988777703\n",
      "MSE: 0.01763758080114341\n",
      "MAE: 0.12873865780043642\n",
      "R^2: -36.56248579419197\n",
      "quantile=0.65\n",
      "MSE: 0.007400504825335906\n",
      "MAE: 0.057264810905979194\n",
      "R^2: 0.6596974685734887\n",
      "MSE: 0.028876181175368828\n",
      "MAE: 0.16341026067063857\n",
      "R^2: -60.49716094397644\n",
      "quantile=0.7\n",
      "MSE: 0.00648146237721008\n",
      "MAE: 0.053452631376741735\n",
      "R^2: 0.7019584330572786\n",
      "MSE: 0.026747169169080886\n",
      "MAE: 0.15803327669118725\n",
      "R^2: -55.96303667016047\n",
      "quantile=0.75\n",
      "MSE: 0.007725487741903184\n",
      "MAE: 0.05816546973719089\n",
      "R^2: 0.6447535543692038\n",
      "MSE: 0.02792368797681417\n",
      "MAE: 0.1614124856566828\n",
      "R^2: -58.468650762044106\n",
      "quantile=0.7999999999999999\n",
      "MSE: 0.01271782621567835\n",
      "MAE: 0.07472799465819044\n",
      "R^2: 0.4151874017268342\n",
      "MSE: 0.03414515448972657\n",
      "MAE: 0.17785282739814712\n",
      "R^2: -71.71841274159875\n",
      "quantile=0.85\n",
      "MSE: 0.01558449063255213\n",
      "MAE: 0.080673274774332\n",
      "R^2: 0.2833675893171892\n",
      "MSE: 0.03186754362603794\n",
      "MAE: 0.17185788367491847\n",
      "R^2: -66.867819756281\n",
      "quantile=0.9\n",
      "MSE: 0.025749080961235675\n",
      "MAE: 0.11246279607684008\n",
      "R^2: -0.18403779739674242\n",
      "MSE: 0.05060705443460265\n",
      "MAE: 0.21690988834127808\n",
      "R^2: -106.7770690163148\n"
     ]
    }
   ],
   "source": [
    "w_quantile= Array{Float64}(undef, 18, 13)\n",
    "a = LinRange(0.05,0.90,18)\n",
    "row=0\n",
    "for i in a\n",
    "    w = proxgrad(QuantileLoss(quantile=i), ZeroReg(),Xoffset,y[:,3],maxiters=1000)\n",
    "    row=row+1\n",
    "    w_quantile[row,:] = w\n",
    "    pred=Xoffset*w\n",
    "    test_pred=X_test*w\n",
    "    println(\"quantile=\", i)\n",
    "    MSE(y[:,3], pred)\n",
    "    MAE(y[:,3], pred)\n",
    "    R2(y[:,3], pred)\n",
    "    MSE(y_test[:,3], test_pred)\n",
    "    MAE(y_test[:,3], test_pred)\n",
    "    R2(y_test[:,3], test_pred)\n",
    "end"
   ]
  },
  {
   "cell_type": "code",
   "execution_count": 245,
   "metadata": {},
   "outputs": [
    {
     "data": {
      "text/plain": [
       "18×13 Array{Float64,2}:\n",
       " 0.0561596  0.0390458  0.120373   …  0.113151  0.103052  0.0153069\n",
       " 0.0510041  0.0465434  0.0788512     0.12399   0.113698  0.0169041\n",
       " 0.0484673  0.0549141  0.0516968     0.130241  0.120048  0.0178812\n",
       " 0.0490236  0.0579897  0.0449992     0.131339  0.121216  0.0180517\n",
       " 0.0405147  0.0570298  0.0366653     0.134468  0.123715  0.0183856\n",
       " 0.0409506  0.0574873  0.0365251  …  0.134308  0.123784  0.0184297\n",
       " 0.0417048  0.0578981  0.035046      0.134178  0.124139  0.0184981\n",
       " 0.0335671  0.0567433  0.0306434     0.135476  0.12587   0.0187679\n",
       " 0.0267381  0.0540332  0.0273945     0.13668   0.127429  0.019013\n",
       " 0.0351278  0.0565728  0.0283339     0.135365  0.126669  0.0189495\n",
       " 0.0297968  0.0549062  0.0245789  …  0.136459  0.128054  0.0191816\n",
       " 0.0297955  0.0548651  0.0223339     0.136561  0.128322  0.0192379\n",
       " 0.054761   0.061671   0.0251704     0.133953  0.125537  0.0188222\n",
       " 0.0471474  0.0596121  0.0227266     0.134879  0.126545  0.018983\n",
       " 0.050154   0.0597421  0.0212431     0.134941  0.126591  0.0190206\n",
       " 0.0633838  0.0634273  0.0198423  …  0.134172  0.125822  0.0189201\n",
       " 0.062321   0.063316   0.0150313     0.135202  0.126714  0.0190934\n",
       " 0.0812393  0.0650509  0.0162947     0.133649  0.124879  0.0188105"
      ]
     },
     "execution_count": 245,
     "metadata": {},
     "output_type": "execute_result"
    }
   ],
   "source": [
    "w_quantile"
   ]
  },
  {
   "cell_type": "markdown",
   "metadata": {},
   "source": [
    "### SP500"
   ]
  },
  {
   "cell_type": "code",
   "execution_count": 27,
   "metadata": {},
   "outputs": [
    {
     "name": "stdout",
     "output_type": "stream",
     "text": [
      "quantile=0.05\n",
      "MSE: 0.18782441882046766\n",
      "MAE: 0.2830131452392073\n",
      "R^2: -18.171481880322546\n",
      "MSE: 0.0018665955281637195\n",
      "MAE: 0.03633918109927878\n",
      "R^2: -6.890586130927682\n",
      "quantile=0.1\n",
      "MSE: 0.10941722844146223\n",
      "MAE: 0.21492987470217081\n",
      "R^2: -10.16835832973181\n",
      "MSE: 0.0012570848586808102\n",
      "MAE: 0.029833021193522605\n",
      "R^2: -4.314025562390598\n",
      "quantile=0.15\n",
      "MSE: 0.0059843848127638264\n",
      "MAE: 0.061188274849909616\n",
      "R^2: 0.3891660854148917\n",
      "MSE: 0.005492322338435465\n",
      "MAE: 0.0730330569786717\n",
      "R^2: -22.217478996575643\n",
      "quantile=0.2\n",
      "MSE: 0.006625212743827444\n",
      "MAE: 0.06348362355519227\n",
      "R^2: 0.32375594787290385\n",
      "MSE: 0.004582954469945894\n",
      "MAE: 0.06601973506302558\n",
      "R^2: -18.373343841021086\n",
      "quantile=0.25\n",
      "MSE: 0.004860412552246749\n",
      "MAE: 0.053832094079403134\n",
      "R^2: 0.5038913908986544\n",
      "MSE: 0.004522700305257914\n",
      "MAE: 0.0656307111245673\n",
      "R^2: -18.118633771783255\n",
      "quantile=0.3\n",
      "MSE: 0.003526997127070299\n",
      "MAE: 0.04437420726662621\n",
      "R^2: 0.6399948316719644\n",
      "MSE: 0.0034824975352677587\n",
      "MAE: 0.05735612510383263\n",
      "R^2: -13.721425364072461\n",
      "quantile=0.35000000000000003\n",
      "MSE: 0.00365497709588252\n",
      "MAE: 0.04433190709658866\n",
      "R^2: 0.6269317503722267\n",
      "MSE: 0.0022720271914034224\n",
      "MAE: 0.04531963895062697\n",
      "R^2: -8.604451513507527\n",
      "quantile=0.4\n",
      "MSE: 0.004263995721733353\n",
      "MAE: 0.047186182118922296\n",
      "R^2: 0.5647684298433955\n",
      "MSE: 0.0013118508657644766\n",
      "MAE: 0.031710237353170974\n",
      "R^2: -4.545535758049206\n",
      "quantile=0.45\n",
      "MSE: 0.003274281842263299\n",
      "MAE: 0.04027884036782277\n",
      "R^2: 0.66578980835276\n",
      "MSE: 0.001153389166374545\n",
      "MAE: 0.030688987505509083\n",
      "R^2: -3.8756768257718566\n",
      "quantile=0.5\n",
      "MSE: 0.0038809369794340783\n",
      "MAE: 0.043623310852027516\n",
      "R^2: 0.6038677321769716\n",
      "MSE: 0.000639497219456665\n",
      "MAE: 0.020479643328792124\n",
      "R^2: -1.7033215361742742\n",
      "quantile=0.55\n",
      "MSE: 0.004878321287221656\n",
      "MAE: 0.04914426705306125\n",
      "R^2: 0.5020634231071017\n",
      "MSE: 0.00043934437891192775\n",
      "MAE: 0.016267911095196267\n",
      "R^2: -0.8572232766216237\n",
      "quantile=0.6000000000000001\n",
      "MSE: 0.003608823235988255\n",
      "MAE: 0.041794478451877816\n",
      "R^2: 0.6316427346746226\n",
      "MSE: 0.00056584931670039\n",
      "MAE: 0.019416522256609402\n",
      "R^2: -1.3919926428535763\n",
      "quantile=0.65\n",
      "MSE: 0.00408772656216056\n",
      "MAE: 0.04491160816401763\n",
      "R^2: 0.5827604514347926\n",
      "MSE: 0.00037584822678566525\n",
      "MAE: 0.015615745657320306\n",
      "R^2: -0.5888084809279652\n",
      "quantile=0.7\n",
      "MSE: 0.007012685803298102\n",
      "MAE: 0.060565764657030806\n",
      "R^2: 0.28420607046396407\n",
      "MSE: 0.001282595154288188\n",
      "MAE: 0.030221746963210373\n",
      "R^2: -4.4218642353533815\n",
      "quantile=0.75\n",
      "MSE: 0.005674035211776326\n",
      "MAE: 0.05546831421611884\n",
      "R^2: 0.4208438714517776\n",
      "MSE: 0.000583503727133402\n",
      "MAE: 0.020008580536132477\n",
      "R^2: -1.4666224402631256\n",
      "quantile=0.7999999999999999\n",
      "MSE: 0.006966707565742484\n",
      "MAE: 0.06323011878519826\n",
      "R^2: 0.28889912876661883\n",
      "MSE: 0.0009595113755710341\n",
      "MAE: 0.026013282195113455\n",
      "R^2: -3.0561048380932796\n",
      "quantile=0.85\n",
      "MSE: 0.015100776467116989\n",
      "MAE: 0.0973960245583938\n",
      "R^2: -0.5413558270868801\n",
      "MSE: 0.0069377972526999485\n",
      "MAE: 0.07637513887837839\n",
      "R^2: -28.327878458594935\n",
      "quantile=0.9\n",
      "MSE: 0.013969497260547548\n",
      "MAE: 0.09566307173329439\n",
      "R^2: -0.4258846921485495\n",
      "MSE: 0.0033278235856111565\n",
      "MAE: 0.05266310236350598\n",
      "R^2: -13.067578237814296\n"
     ]
    }
   ],
   "source": [
    "w_quantile= Array{Float64}(undef, 18, 13)\n",
    "a = LinRange(0.05,0.90,18)\n",
    "row=0\n",
    "for i in a\n",
    "    w = proxgrad(QuantileLoss(quantile=i), ZeroReg(),Xoffset,y[:,4],maxiters=1000)\n",
    "    row=row+1\n",
    "    w_quantile[row,:] = w\n",
    "    pred=Xoffset*w\n",
    "    test_pred=X_test*w\n",
    "    println(\"quantile=\", i)\n",
    "    MSE(y[:,4], pred)\n",
    "    MAE(y[:,4], pred)\n",
    "    R2(y[:,4], pred)\n",
    "    MSE(y_test[:,4], test_pred)\n",
    "    MAE(y_test[:,4], test_pred)\n",
    "    R2(y_test[:,4], test_pred)\n",
    "end"
   ]
  },
  {
   "cell_type": "code",
   "execution_count": 247,
   "metadata": {},
   "outputs": [
    {
     "data": {
      "text/plain": [
       "18×13 Array{Float64,2}:\n",
       " 0.0348239  0.0323605   0.0831344    …  0.100239  0.0920419  0.0137964\n",
       " 0.0328549  0.038499    0.0642046       0.104689  0.0966567  0.0145168\n",
       " 0.0197454  0.0494216   0.00376476      0.118917  0.110643   0.0166512\n",
       " 0.0266321  0.0527149   0.00510286      0.117939  0.109501   0.0164349\n",
       " 0.0259272  0.0533612   0.000604511     0.11922   0.110432   0.0164909\n",
       " 0.0219429  0.0515082  -0.00261573   …  0.120412  0.111514   0.0165703\n",
       " 0.0266391  0.0521219  -6.51716e-5      0.119693  0.111134   0.0165154\n",
       " 0.0332871  0.0532355   0.0025978       0.118226  0.110275   0.0164065\n",
       " 0.0243896  0.0510809  -0.00127926      0.119543  0.111797   0.0166418\n",
       " 0.0301873  0.0519455   0.000780526     0.118285  0.111084   0.0165658\n",
       " 0.0381675  0.0538651   0.00329091   …  0.11686   0.110103   0.016451\n",
       " 0.0264648  0.051489   -0.00288358      0.118358  0.112138   0.0167722\n",
       " 0.0297661  0.0521174  -0.00191418      0.117735  0.111662   0.0167259\n",
       " 0.047916   0.0561357   0.00405455      0.115392  0.109086   0.0163552\n",
       " 0.0374605  0.0532064  -0.00161143      0.116843  0.111027   0.0166607\n",
       " 0.04244    0.0536249  -0.0022668    …  0.116596  0.110958   0.0166444\n",
       " 0.0659146  0.056728    0.00424448      0.114912  0.108235   0.0162085\n",
       " 0.0517847  0.0514373  -0.00650546      0.11757   0.111595   0.016691"
      ]
     },
     "execution_count": 247,
     "metadata": {},
     "output_type": "execute_result"
    }
   ],
   "source": [
    "w_quantile"
   ]
  },
  {
   "cell_type": "markdown",
   "metadata": {},
   "source": [
    "### DJI_Retail"
   ]
  },
  {
   "cell_type": "code",
   "execution_count": 28,
   "metadata": {},
   "outputs": [
    {
     "name": "stdout",
     "output_type": "stream",
     "text": [
      "quantile=0.05\n",
      "MSE: 0.16773569466163016\n",
      "MAE: 0.2870614108702433\n",
      "R^2: -6.842857126879373\n",
      "MSE: 0.0032288637630554966\n",
      "MAE: 0.047187834846606776\n",
      "R^2: -22.47097158906497\n",
      "quantile=0.1\n",
      "MSE: 0.023124431336565904\n",
      "MAE: 0.11511753357126744\n",
      "R^2: -0.08123444731829887\n",
      "MSE: 0.0013480185111826057\n",
      "MAE: 0.031754915150294764\n",
      "R^2: -8.798897228032967\n",
      "quantile=0.15\n",
      "MSE: 0.005545332672238887\n",
      "MAE: 0.0639652868280975\n",
      "R^2: 0.7407155825889068\n",
      "MSE: 0.0021724655766377655\n",
      "MAE: 0.04311897003668379\n",
      "R^2: -14.791895096631318\n",
      "quantile=0.2\n",
      "MSE: 0.005643657383898004\n",
      "MAE: 0.0627775751697679\n",
      "R^2: 0.7361181910370389\n",
      "MSE: 0.001259919207716559\n",
      "MAE: 0.030561610925742885\n",
      "R^2: -8.158493544134194\n",
      "quantile=0.25\n",
      "MSE: 0.004337730445447275\n",
      "MAE: 0.053896791597405\n",
      "R^2: 0.7971797224962399\n",
      "MSE: 0.0010973290051243998\n",
      "MAE: 0.028453274877903428\n",
      "R^2: -6.976607188517368\n",
      "quantile=0.3\n",
      "MSE: 0.0036955267739279653\n",
      "MAE: 0.047329509984340296\n",
      "R^2: 0.8272073898466138\n",
      "MSE: 0.0007479880984584212\n",
      "MAE: 0.02398510928154757\n",
      "R^2: -4.437209091554536\n",
      "quantile=0.35000000000000003\n",
      "MSE: 0.00381329897409547\n",
      "MAE: 0.04671589848449955\n",
      "R^2: 0.8217006875236808\n",
      "MSE: 0.0005036499129744158\n",
      "MAE: 0.019378512540140825\n",
      "R^2: -2.6610875111903503\n",
      "quantile=0.4\n",
      "MSE: 0.0037165074505852314\n",
      "MAE: 0.04480668850901637\n",
      "R^2: 0.8262263914384924\n",
      "MSE: 0.00043999003272642906\n",
      "MAE: 0.016887671551412933\n",
      "R^2: -2.1983367262981934\n",
      "quantile=0.45\n",
      "MSE: 0.004671186240781595\n",
      "MAE: 0.04893668220253715\n",
      "R^2: 0.7815882518422883\n",
      "MSE: 0.0011413377000610188\n",
      "MAE: 0.026467800804320873\n",
      "R^2: -7.296511310935884\n",
      "quantile=0.5\n",
      "MSE: 0.006546270748292325\n",
      "MAE: 0.05676161902763603\n",
      "R^2: 0.6939144867388154\n",
      "MSE: 0.0033214299282845012\n",
      "MAE: 0.048942615735129195\n",
      "R^2: -23.143845390387174\n",
      "quantile=0.55\n",
      "MSE: 0.004112856352570258\n",
      "MAE: 0.044002684791339654\n",
      "R^2: 0.8076942130793494\n",
      "MSE: 0.0010829606098963424\n",
      "MAE: 0.027114290530959876\n",
      "R^2: -6.872161717625447\n",
      "quantile=0.6000000000000001\n",
      "MSE: 0.005264013946364569\n",
      "MAE: 0.049637757191157796\n",
      "R^2: 0.7538692680855974\n",
      "MSE: 0.002453728488468111\n",
      "MAE: 0.04276304138537922\n",
      "R^2: -16.83642663994446\n",
      "quantile=0.65\n",
      "MSE: 0.005700202631005072\n",
      "MAE: 0.051998951321003635\n",
      "R^2: 0.7334742916859829\n",
      "MSE: 0.002929438891365522\n",
      "MAE: 0.047209379281958806\n",
      "R^2: -20.29441872954006\n",
      "quantile=0.7\n",
      "MSE: 0.008301471754265863\n",
      "MAE: 0.06393349314910748\n",
      "R^2: 0.6118461425704803\n",
      "MSE: 0.006064405422005632\n",
      "MAE: 0.0697012988809038\n",
      "R^2: -43.082840841129446\n",
      "quantile=0.75\n",
      "MSE: 0.009674837817406768\n",
      "MAE: 0.07022455843396579\n",
      "R^2: 0.5476313441768095\n",
      "MSE: 0.007587350090943749\n",
      "MAE: 0.07904534325557326\n",
      "R^2: -54.153295861671644\n",
      "quantile=0.7999999999999999\n",
      "MSE: 0.008134061071722945\n",
      "MAE: 0.06526740396882995\n",
      "R^2: 0.6196738030296696\n",
      "MSE: 0.005733604324498622\n",
      "MAE: 0.06932909748227217\n",
      "R^2: -40.678210689168125\n",
      "quantile=0.85\n",
      "MSE: 0.016155365699900483\n",
      "MAE: 0.09461311628542948\n",
      "R^2: 0.2446197854761626\n",
      "MSE: 0.013999890586483554\n",
      "MAE: 0.10977931120185251\n",
      "R^2: -100.76676946395087\n",
      "quantile=0.9\n",
      "MSE: 0.020440300751723654\n",
      "MAE: 0.10905061160853532\n",
      "R^2: 0.04426807454665782\n",
      "MSE: 0.016426146744329562\n",
      "MAE: 0.12010652207257799\n",
      "R^2: -118.40349666197567\n"
     ]
    }
   ],
   "source": [
    "w_quantile= Array{Float64}(undef, 18, 13)\n",
    "a = LinRange(0.05,0.90,18)\n",
    "row=0\n",
    "for i in a\n",
    "    w = proxgrad(QuantileLoss(quantile=i), ZeroReg(),Xoffset,y[:,5],maxiters=1000)\n",
    "    row=row+1\n",
    "    w_quantile[row,:] = w\n",
    "    pred=Xoffset*w\n",
    "    test_pred=X_test*w\n",
    "    println(\"quantile=\", i)\n",
    "    MSE(y[:,5], pred)\n",
    "    MAE(y[:,5], pred)\n",
    "    R2(y[:,5], pred)\n",
    "    MSE(y_test[:,5], test_pred)\n",
    "    MAE(y_test[:,5], test_pred)\n",
    "    R2(y_test[:,5], test_pred)\n",
    "end"
   ]
  },
  {
   "cell_type": "code",
   "execution_count": 249,
   "metadata": {},
   "outputs": [
    {
     "data": {
      "text/plain": [
       "18×13 Array{Float64,2}:\n",
       " 0.0438392  0.0292877  0.0938226  …  0.088404  0.0798985  0.0117974\n",
       " 0.0184576  0.0322532  0.0438008     0.105456  0.0929821  0.0134258\n",
       " 0.0139066  0.0368194  0.022751      0.110756  0.0974509  0.0140263\n",
       " 0.022785   0.0417967  0.0252514     0.108269  0.0967278  0.0141251\n",
       " 0.0206364  0.0404896  0.0214425     0.109581  0.0975098  0.0142298\n",
       " 0.0194267  0.0405912  0.0189003  …  0.110082  0.0979792  0.0143425\n",
       " 0.0231453  0.0416255  0.0206478     0.109082  0.0976133  0.0143571\n",
       " 0.0229624  0.0407828  0.0213735     0.108988  0.0975955  0.0143854\n",
       " 0.0320719  0.0432207  0.0255394     0.106907  0.0965097  0.014278\n",
       " 0.0445166  0.0461242  0.0307784     0.104374  0.094915   0.0140886\n",
       " 0.0246267  0.0402788  0.0251474  …  0.108334  0.0971728  0.0143841\n",
       " 0.0327937  0.0425832  0.0268812     0.10662   0.0965587  0.0143325\n",
       " 0.0343876  0.0430285  0.0259207     0.106463  0.096652   0.0143694\n",
       " 0.0487958  0.0465751  0.0277072     0.104245  0.0955597  0.0142426\n",
       " 0.052266   0.0467579  0.0267496     0.104038  0.0955473  0.0142603\n",
       " 0.0417     0.0416171  0.0237276  …  0.10586   0.0968539  0.0144447\n",
       " 0.0659211  0.0490201  0.0249204     0.103058  0.0951846  0.0142321\n",
       " 0.0679608  0.0479884  0.0212352     0.10356   0.0958106  0.0143454"
      ]
     },
     "execution_count": 249,
     "metadata": {},
     "output_type": "execute_result"
    }
   ],
   "source": [
    "w_quantile"
   ]
  },
  {
   "cell_type": "markdown",
   "metadata": {},
   "source": [
    "### DJI_Pharma"
   ]
  },
  {
   "cell_type": "code",
   "execution_count": 29,
   "metadata": {},
   "outputs": [
    {
     "name": "stdout",
     "output_type": "stream",
     "text": [
      "quantile=0.05\n",
      "MSE: 0.1582210808167769\n",
      "MAE: 0.273409960452861\n",
      "R^2: -41.75106678946105\n",
      "MSE: 0.003310782339134837\n",
      "MAE: 0.04873109981629687\n",
      "R^2: -8.654321313542773\n",
      "quantile=0.1\n",
      "MSE: 0.10194139547011287\n",
      "MAE: 0.21971142608645736\n",
      "R^2: -26.54439158079337\n",
      "MSE: 0.0036063470145853136\n",
      "MAE: 0.05248220497621198\n",
      "R^2: -9.516195050152577\n",
      "quantile=0.15\n",
      "MSE: 0.01697039146833544\n",
      "MAE: 0.10330915123076606\n",
      "R^2: -3.5853708959696347\n",
      "MSE: 0.0003943628549985916\n",
      "MAE: 0.01588721207430499\n",
      "R^2: -0.1499716158560258\n",
      "quantile=0.2\n",
      "MSE: 0.008224620670115406\n",
      "MAE: 0.06949777140769633\n",
      "R^2: -1.222278509102452\n",
      "MSE: 0.00018118828340808136\n",
      "MAE: 0.010899565032759191\n",
      "R^2: 0.471650586752865\n",
      "quantile=0.25\n",
      "MSE: 0.006990221713865843\n",
      "MAE: 0.06378024752249148\n",
      "R^2: -0.8887460117193953\n",
      "MSE: 0.00023122313853583655\n",
      "MAE: 0.01185670027054032\n",
      "R^2: 0.32574773999364803\n",
      "quantile=0.3\n",
      "MSE: 0.007538975369107322\n",
      "MAE: 0.06603469394723961\n",
      "R^2: -1.0370183155431585\n",
      "MSE: 0.0010478695245223484\n",
      "MAE: 0.028267321467052072\n",
      "R^2: -2.0556128576702637\n",
      "quantile=0.35000000000000003\n",
      "MSE: 0.006196497245203917\n",
      "MAE: 0.06016127713534241\n",
      "R^2: -0.6742830109800053\n",
      "MSE: 0.0011017503003909453\n",
      "MAE: 0.029790072840355362\n",
      "R^2: -2.2127305022552437\n",
      "quantile=0.4\n",
      "MSE: 0.004980620725908893\n",
      "MAE: 0.05473320129359946\n",
      "R^2: -0.345755244542151\n",
      "MSE: 0.00100085243213944\n",
      "MAE: 0.028674801682853156\n",
      "R^2: -1.918509880006157\n",
      "quantile=0.45\n",
      "MSE: 0.004152921330062462\n",
      "MAE: 0.051282005195211734\n",
      "R^2: -0.12211227629316102\n",
      "MSE: 0.0011846253151248294\n",
      "MAE: 0.031782122589542716\n",
      "R^2: -2.4543960480834808\n",
      "quantile=0.5\n",
      "MSE: 0.00362058591851598\n",
      "MAE: 0.04929478583445483\n",
      "R^2: 0.021723846023390503\n",
      "MSE: 0.0015285133222815753\n",
      "MAE: 0.03686306550327477\n",
      "R^2: -3.457181787792572\n",
      "quantile=0.55\n",
      "MSE: 0.003170384705789239\n",
      "MAE: 0.04756034303514957\n",
      "R^2: 0.14336744758786957\n",
      "MSE: 0.003451949297742898\n",
      "MAE: 0.057189863141078\n",
      "R^2: -9.065967576466223\n",
      "quantile=0.6000000000000001\n",
      "MSE: 0.0029971138705943224\n",
      "MAE: 0.04549092614604979\n",
      "R^2: 0.19018493239990686\n",
      "MSE: 0.0038248572023869333\n",
      "MAE: 0.06015767722690363\n",
      "R^2: -10.15337603858043\n",
      "quantile=0.65\n",
      "MSE: 0.003591273706730369\n",
      "MAE: 0.04924862255860872\n",
      "R^2: 0.02964395576682366\n",
      "MSE: 0.005291945821633079\n",
      "MAE: 0.07136664153383174\n",
      "R^2: -14.431441907853287\n",
      "quantile=0.7\n",
      "MSE: 0.004006622237178054\n",
      "MAE: 0.04988633900036531\n",
      "R^2: -0.0825825103551967\n",
      "MSE: 0.006370392431136055\n",
      "MAE: 0.07835268075224505\n",
      "R^2: -17.576218284292235\n",
      "quantile=0.75\n",
      "MSE: 0.004398695796369092\n",
      "MAE: 0.05206051433311472\n",
      "R^2: -0.18852011885104591\n",
      "MSE: 0.006899494443839635\n",
      "MAE: 0.08168822431024565\n",
      "R^2: -19.119092540295846\n",
      "quantile=0.7999999999999999\n",
      "MSE: 0.004535374517133606\n",
      "MAE: 0.052613021866877024\n",
      "R^2: -0.22545047661334872\n",
      "MSE: 0.006902428475941155\n",
      "MAE: 0.0816317928351928\n",
      "R^2: -19.127648248811475\n",
      "quantile=0.85\n",
      "MSE: 0.010049570889367471\n",
      "MAE: 0.08370235940340325\n",
      "R^2: -1.7153769527986724\n",
      "MSE: 0.0191999436488467\n",
      "MAE: 0.1376654534568433\n",
      "R^2: -54.98749969057742\n",
      "quantile=0.9\n",
      "MSE: 0.0230534265723125\n",
      "MAE: 0.12913357645817897\n",
      "R^2: -5.228996629470404\n",
      "MSE: 0.041012943687471964\n",
      "MAE: 0.20093746339166924\n",
      "R^2: -118.59473496423176\n"
     ]
    }
   ],
   "source": [
    "w_quantile= Array{Float64}(undef, 18, 13)\n",
    "a = LinRange(0.05,0.90,18)\n",
    "row=0\n",
    "for i in a\n",
    "    w = proxgrad(QuantileLoss(quantile=i), ZeroReg(),Xoffset,y[:,6],maxiters=1000)\n",
    "    row=row+1\n",
    "    w_quantile[row,:] = w\n",
    "    pred=Xoffset*w\n",
    "    test_pred=X_test*w\n",
    "    println(\"quantile=\", i)\n",
    "    MSE(y[:,6], pred)\n",
    "    MAE(y[:,6], pred)\n",
    "    R2(y[:,6], pred)\n",
    "    MSE(y_test[:,6], test_pred)\n",
    "    MAE(y_test[:,6], test_pred)\n",
    "    R2(y_test[:,6], test_pred)\n",
    "end"
   ]
  },
  {
   "cell_type": "code",
   "execution_count": 251,
   "metadata": {},
   "outputs": [
    {
     "data": {
      "text/plain": [
       "18×13 Array{Float64,2}:\n",
       " 0.0376621   0.0269432   0.0767484   …  0.0813069  0.074919   0.0111597\n",
       " 0.0382512   0.0319594   0.062493       0.0841545  0.0783812  0.0117161\n",
       " 0.0349242   0.0414607   0.0175351      0.0930836  0.0891355  0.0134586\n",
       " 0.0300195   0.0425068   0.00265259     0.0958532  0.0932593  0.014131\n",
       " 0.0290843   0.043233    0.00155119     0.0957356  0.0935342  0.0141788\n",
       " 0.0379545   0.0461092   0.00512593  …  0.0943669  0.0918326  0.0139164\n",
       " 0.0332245   0.0452527   0.00233225     0.0949928  0.0928414  0.014064\n",
       " 0.0265347   0.0438036  -0.00116315     0.0956252  0.0942632  0.0142973\n",
       " 0.0223266   0.0426714  -0.00374974     0.0960227  0.0953662  0.014467\n",
       " 0.0196701   0.0418435  -0.00559677     0.096692   0.0958561  0.0144777\n",
       " 0.0144234   0.0408697  -0.00787104  …  0.0971784  0.0967718  0.0146263\n",
       " 0.00820173  0.0401306  -0.0118471      0.0979039  0.0978905  0.0147928\n",
       " 0.0124032   0.0420482  -0.00991091     0.0976799  0.0967375  0.0146012\n",
       " 0.0049463   0.0401941  -0.013699       0.0986738  0.0980096  0.0147747\n",
       " 0.0039051   0.0398276  -0.0138663      0.0990306  0.0979914  0.0147678\n",
       " 0.00174493  0.0382771  -0.015058    …  0.0995726  0.0981542  0.0147683\n",
       " 0.0274013   0.0408105  -0.00375473     0.0978493  0.0942551  0.0141441\n",
       " 0.0525558   0.0449039   0.00539012     0.0966896  0.0911486  0.0136793"
      ]
     },
     "execution_count": 251,
     "metadata": {},
     "output_type": "execute_result"
    }
   ],
   "source": [
    "w_quantile"
   ]
  },
  {
   "cell_type": "code",
   "execution_count": null,
   "metadata": {},
   "outputs": [],
   "source": []
  }
 ],
 "metadata": {
  "kernelspec": {
   "display_name": "Julia 1.5.1",
   "language": "julia",
   "name": "julia-1.5"
  },
  "language_info": {
   "file_extension": ".jl",
   "mimetype": "application/julia",
   "name": "julia",
   "version": "1.5.1"
  }
 },
 "nbformat": 4,
 "nbformat_minor": 4
}
